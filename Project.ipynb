{
 "cells": [
  {
   "cell_type": "code",
   "execution_count": 2,
   "metadata": {},
   "outputs": [],
   "source": [
    "# Team 1 LendingClub primary notebook\n",
    "# import dependencies\n",
    "import pandas as pd\n",
    "import numpy as np\n",
    "import glob\n",
    "import matplotlib.pyplot as plt\n",
    "from scipy.stats import linregress, spearmanr\n",
    "\n",
    "\n",
    "# pull in all csvs and merge them into a single dataframe\n",
    "bigdf = pd.concat([pd.read_csv(f, low_memory=False, usecols=['loan_amnt','term','int_rate',\n",
    "                                                             'installment','emp_length','home_ownership',\n",
    "                                                             'annual_inc','issue_d','open_acc',\n",
    "                                                            ]) for f in glob.glob('data/LoanStats*.csv')], ignore_index=True)"
   ]
  },
  {
   "cell_type": "code",
   "execution_count": 3,
   "metadata": {},
   "outputs": [],
   "source": [
    "#Assigning month numbers for merging for loan data\n",
    "\n",
    "bigdf[\"month_num\"] = \"\"\n",
    "bigdf.loc[bigdf['issue_d'].str[:3] == \"Dec\", ('month_num')] = (12)\n",
    "bigdf.loc[bigdf['issue_d'].str[:3] == \"Nov\", ('month_num')] = (11)\n",
    "bigdf.loc[bigdf['issue_d'].str[:3] == \"Oct\", ('month_num')] = (10)\n",
    "bigdf.loc[bigdf['issue_d'].str[:3] == \"Sep\", ('month_num')] = (9)\n",
    "bigdf.loc[bigdf['issue_d'].str[:3] == \"Aug\", ('month_num')] = (8)\n",
    "bigdf.loc[bigdf['issue_d'].str[:3] == \"Jul\", ('month_num')] = (7)\n",
    "bigdf.loc[bigdf['issue_d'].str[:3] == \"Jun\", ('month_num')] = (6)\n",
    "bigdf.loc[bigdf['issue_d'].str[:3] == \"May\", ('month_num')] = (5)\n",
    "bigdf.loc[bigdf['issue_d'].str[:3] == \"Apr\", ('month_num')] = (4)\n",
    "bigdf.loc[bigdf['issue_d'].str[:3] == \"Mar\", ('month_num')] = (3)\n",
    "bigdf.loc[bigdf['issue_d'].str[:3] == \"Feb\", ('month_num')] = (2)\n",
    "bigdf.loc[bigdf['issue_d'].str[:3] == \"Jan\", ('month_num')] = (1)\n",
    "bigdf.loc[bigdf['issue_d'].str[:3] == \"\", ('month_num')] = (0)"
   ]
  },
  {
   "cell_type": "code",
   "execution_count": 4,
   "metadata": {},
   "outputs": [
    {
     "data": {
      "text/html": [
       "<div>\n",
       "<style scoped>\n",
       "    .dataframe tbody tr th:only-of-type {\n",
       "        vertical-align: middle;\n",
       "    }\n",
       "\n",
       "    .dataframe tbody tr th {\n",
       "        vertical-align: top;\n",
       "    }\n",
       "\n",
       "    .dataframe thead th {\n",
       "        text-align: right;\n",
       "    }\n",
       "</style>\n",
       "<table border=\"1\" class=\"dataframe\">\n",
       "  <thead>\n",
       "    <tr style=\"text-align: right;\">\n",
       "      <th></th>\n",
       "      <th>loan_amnt</th>\n",
       "      <th>term</th>\n",
       "      <th>int_rate</th>\n",
       "      <th>installment</th>\n",
       "      <th>emp_length</th>\n",
       "      <th>home_ownership</th>\n",
       "      <th>annual_inc</th>\n",
       "      <th>issue_d</th>\n",
       "      <th>open_acc</th>\n",
       "      <th>month_num</th>\n",
       "    </tr>\n",
       "  </thead>\n",
       "  <tbody>\n",
       "    <tr>\n",
       "      <th>0</th>\n",
       "      <td>30000.0</td>\n",
       "      <td>36 months</td>\n",
       "      <td>7.34%</td>\n",
       "      <td>930.99</td>\n",
       "      <td>3 years</td>\n",
       "      <td>OWN</td>\n",
       "      <td>95000.0</td>\n",
       "      <td>Mar-18</td>\n",
       "      <td>10.0</td>\n",
       "      <td>3</td>\n",
       "    </tr>\n",
       "    <tr>\n",
       "      <th>1</th>\n",
       "      <td>34825.0</td>\n",
       "      <td>60 months</td>\n",
       "      <td>12.61%</td>\n",
       "      <td>785.45</td>\n",
       "      <td>2 years</td>\n",
       "      <td>MORTGAGE</td>\n",
       "      <td>125000.0</td>\n",
       "      <td>Mar-18</td>\n",
       "      <td>12.0</td>\n",
       "      <td>3</td>\n",
       "    </tr>\n",
       "    <tr>\n",
       "      <th>2</th>\n",
       "      <td>2600.0</td>\n",
       "      <td>36 months</td>\n",
       "      <td>7.96%</td>\n",
       "      <td>81.43</td>\n",
       "      <td>3 years</td>\n",
       "      <td>MORTGAGE</td>\n",
       "      <td>62000.0</td>\n",
       "      <td>Mar-18</td>\n",
       "      <td>8.0</td>\n",
       "      <td>3</td>\n",
       "    </tr>\n",
       "    <tr>\n",
       "      <th>3</th>\n",
       "      <td>20000.0</td>\n",
       "      <td>60 months</td>\n",
       "      <td>9.92%</td>\n",
       "      <td>424.16</td>\n",
       "      <td>3 years</td>\n",
       "      <td>MORTGAGE</td>\n",
       "      <td>110000.0</td>\n",
       "      <td>Mar-18</td>\n",
       "      <td>9.0</td>\n",
       "      <td>3</td>\n",
       "    </tr>\n",
       "    <tr>\n",
       "      <th>4</th>\n",
       "      <td>17000.0</td>\n",
       "      <td>60 months</td>\n",
       "      <td>20.39%</td>\n",
       "      <td>454.10</td>\n",
       "      <td>10+ years</td>\n",
       "      <td>RENT</td>\n",
       "      <td>52000.0</td>\n",
       "      <td>Mar-18</td>\n",
       "      <td>9.0</td>\n",
       "      <td>3</td>\n",
       "    </tr>\n",
       "  </tbody>\n",
       "</table>\n",
       "</div>"
      ],
      "text/plain": [
       "   loan_amnt        term int_rate  installment emp_length home_ownership  \\\n",
       "0    30000.0   36 months    7.34%       930.99    3 years            OWN   \n",
       "1    34825.0   60 months   12.61%       785.45    2 years       MORTGAGE   \n",
       "2     2600.0   36 months    7.96%        81.43    3 years       MORTGAGE   \n",
       "3    20000.0   60 months    9.92%       424.16    3 years       MORTGAGE   \n",
       "4    17000.0   60 months   20.39%       454.10  10+ years           RENT   \n",
       "\n",
       "   annual_inc issue_d  open_acc month_num  \n",
       "0     95000.0  Mar-18      10.0         3  \n",
       "1    125000.0  Mar-18      12.0         3  \n",
       "2     62000.0  Mar-18       8.0         3  \n",
       "3    110000.0  Mar-18       9.0         3  \n",
       "4     52000.0  Mar-18       9.0         3  "
      ]
     },
     "execution_count": 4,
     "metadata": {},
     "output_type": "execute_result"
    }
   ],
   "source": [
    "#First 5 rows of Loan data\n",
    "bigdf.head()"
   ]
  },
  {
   "cell_type": "code",
   "execution_count": 5,
   "metadata": {},
   "outputs": [
    {
     "data": {
      "text/html": [
       "<div>\n",
       "<style scoped>\n",
       "    .dataframe tbody tr th:only-of-type {\n",
       "        vertical-align: middle;\n",
       "    }\n",
       "\n",
       "    .dataframe tbody tr th {\n",
       "        vertical-align: top;\n",
       "    }\n",
       "\n",
       "    .dataframe thead th {\n",
       "        text-align: right;\n",
       "    }\n",
       "</style>\n",
       "<table border=\"1\" class=\"dataframe\">\n",
       "  <thead>\n",
       "    <tr style=\"text-align: right;\">\n",
       "      <th></th>\n",
       "      <th>issue_d</th>\n",
       "      <th>Open</th>\n",
       "      <th>High</th>\n",
       "      <th>Low</th>\n",
       "      <th>Close</th>\n",
       "      <th>Adj Close</th>\n",
       "    </tr>\n",
       "  </thead>\n",
       "  <tbody>\n",
       "    <tr>\n",
       "      <th>0</th>\n",
       "      <td>1-Jan</td>\n",
       "      <td>10.950000</td>\n",
       "      <td>15.420000</td>\n",
       "      <td>8.92</td>\n",
       "      <td>13.540000</td>\n",
       "      <td>13.540000</td>\n",
       "    </tr>\n",
       "    <tr>\n",
       "      <th>1</th>\n",
       "      <td>1-Feb</td>\n",
       "      <td>13.050000</td>\n",
       "      <td>50.299999</td>\n",
       "      <td>12.50</td>\n",
       "      <td>19.850000</td>\n",
       "      <td>19.850000</td>\n",
       "    </tr>\n",
       "    <tr>\n",
       "      <th>2</th>\n",
       "      <td>1-Mar</td>\n",
       "      <td>19.959999</td>\n",
       "      <td>26.219999</td>\n",
       "      <td>13.31</td>\n",
       "      <td>19.969999</td>\n",
       "      <td>19.969999</td>\n",
       "    </tr>\n",
       "    <tr>\n",
       "      <th>3</th>\n",
       "      <td>1-Apr</td>\n",
       "      <td>21.070000</td>\n",
       "      <td>25.719999</td>\n",
       "      <td>14.57</td>\n",
       "      <td>15.930000</td>\n",
       "      <td>15.930000</td>\n",
       "    </tr>\n",
       "    <tr>\n",
       "      <th>4</th>\n",
       "      <td>1-May</td>\n",
       "      <td>16.000000</td>\n",
       "      <td>18.780001</td>\n",
       "      <td>10.91</td>\n",
       "      <td>15.430000</td>\n",
       "      <td>15.430000</td>\n",
       "    </tr>\n",
       "    <tr>\n",
       "      <th>5</th>\n",
       "      <td>1-Jun</td>\n",
       "      <td>14.920000</td>\n",
       "      <td>19.610001</td>\n",
       "      <td>11.22</td>\n",
       "      <td>16.090000</td>\n",
       "      <td>16.090000</td>\n",
       "    </tr>\n",
       "    <tr>\n",
       "      <th>6</th>\n",
       "      <td>1-Jul</td>\n",
       "      <td>17.700001</td>\n",
       "      <td>18.080000</td>\n",
       "      <td>11.44</td>\n",
       "      <td>12.830000</td>\n",
       "      <td>12.830000</td>\n",
       "    </tr>\n",
       "    <tr>\n",
       "      <th>7</th>\n",
       "      <td>1-Aug</td>\n",
       "      <td>13.090000</td>\n",
       "      <td>16.860001</td>\n",
       "      <td>10.17</td>\n",
       "      <td>12.860000</td>\n",
       "      <td>12.860000</td>\n",
       "    </tr>\n",
       "    <tr>\n",
       "      <th>8</th>\n",
       "      <td>1-Sep</td>\n",
       "      <td>13.130000</td>\n",
       "      <td>15.630000</td>\n",
       "      <td>11.10</td>\n",
       "      <td>12.120000</td>\n",
       "      <td>12.120000</td>\n",
       "    </tr>\n",
       "    <tr>\n",
       "      <th>9</th>\n",
       "      <td>1-Oct</td>\n",
       "      <td>11.990000</td>\n",
       "      <td>28.840000</td>\n",
       "      <td>11.34</td>\n",
       "      <td>21.230000</td>\n",
       "      <td>21.230000</td>\n",
       "    </tr>\n",
       "    <tr>\n",
       "      <th>10</th>\n",
       "      <td>1-Nov</td>\n",
       "      <td>20.959999</td>\n",
       "      <td>23.809999</td>\n",
       "      <td>16.09</td>\n",
       "      <td>18.070000</td>\n",
       "      <td>18.070000</td>\n",
       "    </tr>\n",
       "    <tr>\n",
       "      <th>11</th>\n",
       "      <td>1-Dec</td>\n",
       "      <td>16.040001</td>\n",
       "      <td>36.200001</td>\n",
       "      <td>15.94</td>\n",
       "      <td>25.420000</td>\n",
       "      <td>25.420000</td>\n",
       "    </tr>\n",
       "    <tr>\n",
       "      <th>12</th>\n",
       "      <td>NaN</td>\n",
       "      <td>NaN</td>\n",
       "      <td>NaN</td>\n",
       "      <td>NaN</td>\n",
       "      <td>NaN</td>\n",
       "      <td>NaN</td>\n",
       "    </tr>\n",
       "  </tbody>\n",
       "</table>\n",
       "</div>"
      ],
      "text/plain": [
       "   issue_d       Open       High    Low      Close  Adj Close\n",
       "0    1-Jan  10.950000  15.420000   8.92  13.540000  13.540000\n",
       "1    1-Feb  13.050000  50.299999  12.50  19.850000  19.850000\n",
       "2    1-Mar  19.959999  26.219999  13.31  19.969999  19.969999\n",
       "3    1-Apr  21.070000  25.719999  14.57  15.930000  15.930000\n",
       "4    1-May  16.000000  18.780001  10.91  15.430000  15.430000\n",
       "5    1-Jun  14.920000  19.610001  11.22  16.090000  16.090000\n",
       "6    1-Jul  17.700001  18.080000  11.44  12.830000  12.830000\n",
       "7    1-Aug  13.090000  16.860001  10.17  12.860000  12.860000\n",
       "8    1-Sep  13.130000  15.630000  11.10  12.120000  12.120000\n",
       "9    1-Oct  11.990000  28.840000  11.34  21.230000  21.230000\n",
       "10   1-Nov  20.959999  23.809999  16.09  18.070000  18.070000\n",
       "11   1-Dec  16.040001  36.200001  15.94  25.420000  25.420000\n",
       "12     NaN        NaN        NaN    NaN        NaN        NaN"
      ]
     },
     "execution_count": 5,
     "metadata": {},
     "output_type": "execute_result"
    }
   ],
   "source": [
    "#Readig in VIX data\n",
    "mydf= pd.read_csv('T Part/VIX.csv')\n",
    "mydf"
   ]
  },
  {
   "cell_type": "code",
   "execution_count": 6,
   "metadata": {},
   "outputs": [],
   "source": [
    "#Assigning month numbers for merging for VIX data\n",
    "mydf[\"month_num\"] = \"\"\n",
    "mydf.loc[mydf['issue_d'].str[2:] == \"Dec\", ('month_num')] = (12)\n",
    "mydf.loc[mydf['issue_d'].str[2:] == \"Nov\", ('month_num')] = (11)\n",
    "mydf.loc[mydf['issue_d'].str[2:] == \"Oct\", ('month_num')] = (10)\n",
    "mydf.loc[mydf['issue_d'].str[2:] == \"Sep\", ('month_num')] = (9)\n",
    "mydf.loc[mydf['issue_d'].str[2:] == \"Aug\", ('month_num')] = (8)\n",
    "mydf.loc[mydf['issue_d'].str[2:] == \"Jul\", ('month_num')] = (7)\n",
    "mydf.loc[mydf['issue_d'].str[2:] == \"Jun\", ('month_num')] = (6)\n",
    "mydf.loc[mydf['issue_d'].str[2:] == \"May\", ('month_num')] = (5)\n",
    "mydf.loc[mydf['issue_d'].str[2:] == \"Apr\", ('month_num')] = (4)\n",
    "mydf.loc[mydf['issue_d'].str[2:] == \"Mar\", ('month_num')] = (3)\n",
    "mydf.loc[mydf['issue_d'].str[2:] == \"Feb\", ('month_num')] = (2)\n",
    "mydf.loc[mydf['issue_d'].str[2:] == \"Jan\", ('month_num')] = (1)\n",
    "mydf.loc[mydf['issue_d'].str[2:] == \"\", ('month_num')] = (0)"
   ]
  },
  {
   "cell_type": "code",
   "execution_count": 7,
   "metadata": {},
   "outputs": [
    {
     "data": {
      "text/html": [
       "<div>\n",
       "<style scoped>\n",
       "    .dataframe tbody tr th:only-of-type {\n",
       "        vertical-align: middle;\n",
       "    }\n",
       "\n",
       "    .dataframe tbody tr th {\n",
       "        vertical-align: top;\n",
       "    }\n",
       "\n",
       "    .dataframe thead th {\n",
       "        text-align: right;\n",
       "    }\n",
       "</style>\n",
       "<table border=\"1\" class=\"dataframe\">\n",
       "  <thead>\n",
       "    <tr style=\"text-align: right;\">\n",
       "      <th></th>\n",
       "      <th>Date</th>\n",
       "      <th>Adj Close</th>\n",
       "    </tr>\n",
       "  </thead>\n",
       "  <tbody>\n",
       "    <tr>\n",
       "      <th>0</th>\n",
       "      <td>1-Jan</td>\n",
       "      <td>7411.479980</td>\n",
       "    </tr>\n",
       "    <tr>\n",
       "      <th>1</th>\n",
       "      <td>1-Feb</td>\n",
       "      <td>7273.009766</td>\n",
       "    </tr>\n",
       "    <tr>\n",
       "      <th>2</th>\n",
       "      <td>1-Mar</td>\n",
       "      <td>7063.450195</td>\n",
       "    </tr>\n",
       "    <tr>\n",
       "      <th>3</th>\n",
       "      <td>1-Apr</td>\n",
       "      <td>7066.270020</td>\n",
       "    </tr>\n",
       "    <tr>\n",
       "      <th>4</th>\n",
       "      <td>1-May</td>\n",
       "      <td>7442.120117</td>\n",
       "    </tr>\n",
       "  </tbody>\n",
       "</table>\n",
       "</div>"
      ],
      "text/plain": [
       "    Date    Adj Close\n",
       "0  1-Jan  7411.479980\n",
       "1  1-Feb  7273.009766\n",
       "2  1-Mar  7063.450195\n",
       "3  1-Apr  7066.270020\n",
       "4  1-May  7442.120117"
      ]
     },
     "execution_count": 7,
     "metadata": {},
     "output_type": "execute_result"
    }
   ],
   "source": [
    "#Readig in NASDAQ data\n",
    "nasdaq_df= pd.read_csv('T Part/IXIC.csv')\n",
    "nasdaq_df.head()"
   ]
  },
  {
   "cell_type": "code",
   "execution_count": 8,
   "metadata": {},
   "outputs": [],
   "source": [
    "#Assigning month numbers for merging for VIX data\n",
    "nasdaq_df[\"month_num\"] = \"\"\n",
    "nasdaq_df.loc[nasdaq_df['Date'].str[2:] == \"Dec\", ('month_num')] = (12)\n",
    "nasdaq_df.loc[nasdaq_df['Date'].str[2:] == \"Nov\", ('month_num')] = (11)\n",
    "nasdaq_df.loc[nasdaq_df['Date'].str[2:] == \"Oct\", ('month_num')] = (10)\n",
    "nasdaq_df.loc[nasdaq_df['Date'].str[2:] == \"Sep\", ('month_num')] = (9)\n",
    "nasdaq_df.loc[nasdaq_df['Date'].str[2:] == \"Aug\", ('month_num')] = (8)\n",
    "nasdaq_df.loc[nasdaq_df['Date'].str[2:] == \"Jul\", ('month_num')] = (7)\n",
    "nasdaq_df.loc[nasdaq_df['Date'].str[2:] == \"Jun\", ('month_num')] = (6)\n",
    "nasdaq_df.loc[nasdaq_df['Date'].str[2:] == \"May\", ('month_num')] = (5)\n",
    "nasdaq_df.loc[nasdaq_df['Date'].str[2:] == \"Apr\", ('month_num')] = (4)\n",
    "nasdaq_df.loc[nasdaq_df['Date'].str[2:] == \"Mar\", ('month_num')] = (3)\n",
    "nasdaq_df.loc[nasdaq_df['Date'].str[2:] == \"Feb\", ('month_num')] = (2)\n",
    "nasdaq_df.loc[nasdaq_df['Date'].str[2:] == \"Jan\", ('month_num')] = (1)\n",
    "nasdaq_df.loc[nasdaq_df['Date'].str[2:] == \"\", ('month_num')] = (0)"
   ]
  },
  {
   "cell_type": "code",
   "execution_count": 9,
   "metadata": {},
   "outputs": [
    {
     "data": {
      "text/html": [
       "<div>\n",
       "<style scoped>\n",
       "    .dataframe tbody tr th:only-of-type {\n",
       "        vertical-align: middle;\n",
       "    }\n",
       "\n",
       "    .dataframe tbody tr th {\n",
       "        vertical-align: top;\n",
       "    }\n",
       "\n",
       "    .dataframe thead th {\n",
       "        text-align: right;\n",
       "    }\n",
       "</style>\n",
       "<table border=\"1\" class=\"dataframe\">\n",
       "  <thead>\n",
       "    <tr style=\"text-align: right;\">\n",
       "      <th></th>\n",
       "      <th>Date</th>\n",
       "      <th>Adj Close</th>\n",
       "      <th>month_num</th>\n",
       "    </tr>\n",
       "  </thead>\n",
       "  <tbody>\n",
       "    <tr>\n",
       "      <th>0</th>\n",
       "      <td>1-Jan</td>\n",
       "      <td>7411.479980</td>\n",
       "      <td>1</td>\n",
       "    </tr>\n",
       "    <tr>\n",
       "      <th>1</th>\n",
       "      <td>1-Feb</td>\n",
       "      <td>7273.009766</td>\n",
       "      <td>2</td>\n",
       "    </tr>\n",
       "    <tr>\n",
       "      <th>2</th>\n",
       "      <td>1-Mar</td>\n",
       "      <td>7063.450195</td>\n",
       "      <td>3</td>\n",
       "    </tr>\n",
       "    <tr>\n",
       "      <th>3</th>\n",
       "      <td>1-Apr</td>\n",
       "      <td>7066.270020</td>\n",
       "      <td>4</td>\n",
       "    </tr>\n",
       "    <tr>\n",
       "      <th>4</th>\n",
       "      <td>1-May</td>\n",
       "      <td>7442.120117</td>\n",
       "      <td>5</td>\n",
       "    </tr>\n",
       "  </tbody>\n",
       "</table>\n",
       "</div>"
      ],
      "text/plain": [
       "    Date    Adj Close  month_num\n",
       "0  1-Jan  7411.479980          1\n",
       "1  1-Feb  7273.009766          2\n",
       "2  1-Mar  7063.450195          3\n",
       "3  1-Apr  7066.270020          4\n",
       "4  1-May  7442.120117          5"
      ]
     },
     "execution_count": 9,
     "metadata": {},
     "output_type": "execute_result"
    }
   ],
   "source": [
    "#Assigns month number to allow merging\n",
    "nasdaq_df.head()"
   ]
  },
  {
   "cell_type": "code",
   "execution_count": 10,
   "metadata": {
    "scrolled": true
   },
   "outputs": [
    {
     "data": {
      "text/html": [
       "<div>\n",
       "<style scoped>\n",
       "    .dataframe tbody tr th:only-of-type {\n",
       "        vertical-align: middle;\n",
       "    }\n",
       "\n",
       "    .dataframe tbody tr th {\n",
       "        vertical-align: top;\n",
       "    }\n",
       "\n",
       "    .dataframe thead th {\n",
       "        text-align: right;\n",
       "    }\n",
       "</style>\n",
       "<table border=\"1\" class=\"dataframe\">\n",
       "  <thead>\n",
       "    <tr style=\"text-align: right;\">\n",
       "      <th></th>\n",
       "      <th>issue_d</th>\n",
       "      <th>Open</th>\n",
       "      <th>High</th>\n",
       "      <th>Low</th>\n",
       "      <th>Close</th>\n",
       "      <th>Adj Close</th>\n",
       "      <th>month_num</th>\n",
       "    </tr>\n",
       "  </thead>\n",
       "  <tbody>\n",
       "    <tr>\n",
       "      <th>0</th>\n",
       "      <td>1-Jan</td>\n",
       "      <td>10.950000</td>\n",
       "      <td>15.420000</td>\n",
       "      <td>8.92</td>\n",
       "      <td>13.540000</td>\n",
       "      <td>13.540000</td>\n",
       "      <td>1</td>\n",
       "    </tr>\n",
       "    <tr>\n",
       "      <th>1</th>\n",
       "      <td>1-Feb</td>\n",
       "      <td>13.050000</td>\n",
       "      <td>50.299999</td>\n",
       "      <td>12.50</td>\n",
       "      <td>19.850000</td>\n",
       "      <td>19.850000</td>\n",
       "      <td>2</td>\n",
       "    </tr>\n",
       "    <tr>\n",
       "      <th>2</th>\n",
       "      <td>1-Mar</td>\n",
       "      <td>19.959999</td>\n",
       "      <td>26.219999</td>\n",
       "      <td>13.31</td>\n",
       "      <td>19.969999</td>\n",
       "      <td>19.969999</td>\n",
       "      <td>3</td>\n",
       "    </tr>\n",
       "    <tr>\n",
       "      <th>3</th>\n",
       "      <td>1-Apr</td>\n",
       "      <td>21.070000</td>\n",
       "      <td>25.719999</td>\n",
       "      <td>14.57</td>\n",
       "      <td>15.930000</td>\n",
       "      <td>15.930000</td>\n",
       "      <td>4</td>\n",
       "    </tr>\n",
       "    <tr>\n",
       "      <th>4</th>\n",
       "      <td>1-May</td>\n",
       "      <td>16.000000</td>\n",
       "      <td>18.780001</td>\n",
       "      <td>10.91</td>\n",
       "      <td>15.430000</td>\n",
       "      <td>15.430000</td>\n",
       "      <td>5</td>\n",
       "    </tr>\n",
       "    <tr>\n",
       "      <th>5</th>\n",
       "      <td>1-Jun</td>\n",
       "      <td>14.920000</td>\n",
       "      <td>19.610001</td>\n",
       "      <td>11.22</td>\n",
       "      <td>16.090000</td>\n",
       "      <td>16.090000</td>\n",
       "      <td>6</td>\n",
       "    </tr>\n",
       "    <tr>\n",
       "      <th>6</th>\n",
       "      <td>1-Jul</td>\n",
       "      <td>17.700001</td>\n",
       "      <td>18.080000</td>\n",
       "      <td>11.44</td>\n",
       "      <td>12.830000</td>\n",
       "      <td>12.830000</td>\n",
       "      <td>7</td>\n",
       "    </tr>\n",
       "    <tr>\n",
       "      <th>7</th>\n",
       "      <td>1-Aug</td>\n",
       "      <td>13.090000</td>\n",
       "      <td>16.860001</td>\n",
       "      <td>10.17</td>\n",
       "      <td>12.860000</td>\n",
       "      <td>12.860000</td>\n",
       "      <td>8</td>\n",
       "    </tr>\n",
       "    <tr>\n",
       "      <th>8</th>\n",
       "      <td>1-Sep</td>\n",
       "      <td>13.130000</td>\n",
       "      <td>15.630000</td>\n",
       "      <td>11.10</td>\n",
       "      <td>12.120000</td>\n",
       "      <td>12.120000</td>\n",
       "      <td>9</td>\n",
       "    </tr>\n",
       "    <tr>\n",
       "      <th>9</th>\n",
       "      <td>1-Oct</td>\n",
       "      <td>11.990000</td>\n",
       "      <td>28.840000</td>\n",
       "      <td>11.34</td>\n",
       "      <td>21.230000</td>\n",
       "      <td>21.230000</td>\n",
       "      <td>10</td>\n",
       "    </tr>\n",
       "    <tr>\n",
       "      <th>10</th>\n",
       "      <td>1-Nov</td>\n",
       "      <td>20.959999</td>\n",
       "      <td>23.809999</td>\n",
       "      <td>16.09</td>\n",
       "      <td>18.070000</td>\n",
       "      <td>18.070000</td>\n",
       "      <td>11</td>\n",
       "    </tr>\n",
       "    <tr>\n",
       "      <th>11</th>\n",
       "      <td>1-Dec</td>\n",
       "      <td>16.040001</td>\n",
       "      <td>36.200001</td>\n",
       "      <td>15.94</td>\n",
       "      <td>25.420000</td>\n",
       "      <td>25.420000</td>\n",
       "      <td>12</td>\n",
       "    </tr>\n",
       "  </tbody>\n",
       "</table>\n",
       "</div>"
      ],
      "text/plain": [
       "   issue_d       Open       High    Low      Close  Adj Close month_num\n",
       "0    1-Jan  10.950000  15.420000   8.92  13.540000  13.540000         1\n",
       "1    1-Feb  13.050000  50.299999  12.50  19.850000  19.850000         2\n",
       "2    1-Mar  19.959999  26.219999  13.31  19.969999  19.969999         3\n",
       "3    1-Apr  21.070000  25.719999  14.57  15.930000  15.930000         4\n",
       "4    1-May  16.000000  18.780001  10.91  15.430000  15.430000         5\n",
       "5    1-Jun  14.920000  19.610001  11.22  16.090000  16.090000         6\n",
       "6    1-Jul  17.700001  18.080000  11.44  12.830000  12.830000         7\n",
       "7    1-Aug  13.090000  16.860001  10.17  12.860000  12.860000         8\n",
       "8    1-Sep  13.130000  15.630000  11.10  12.120000  12.120000         9\n",
       "9    1-Oct  11.990000  28.840000  11.34  21.230000  21.230000        10\n",
       "10   1-Nov  20.959999  23.809999  16.09  18.070000  18.070000        11\n",
       "11   1-Dec  16.040001  36.200001  15.94  25.420000  25.420000        12"
      ]
     },
     "execution_count": 10,
     "metadata": {},
     "output_type": "execute_result"
    }
   ],
   "source": [
    "#Ensuring that we are only using 2018 data for VI\n",
    "cleanmydf= mydf.dropna()\n",
    "cleanmydf"
   ]
  },
  {
   "cell_type": "code",
   "execution_count": 11,
   "metadata": {},
   "outputs": [
    {
     "data": {
      "text/html": [
       "<div>\n",
       "<style scoped>\n",
       "    .dataframe tbody tr th:only-of-type {\n",
       "        vertical-align: middle;\n",
       "    }\n",
       "\n",
       "    .dataframe tbody tr th {\n",
       "        vertical-align: top;\n",
       "    }\n",
       "\n",
       "    .dataframe thead th {\n",
       "        text-align: right;\n",
       "    }\n",
       "</style>\n",
       "<table border=\"1\" class=\"dataframe\">\n",
       "  <thead>\n",
       "    <tr style=\"text-align: right;\">\n",
       "      <th></th>\n",
       "      <th>issue_d</th>\n",
       "      <th>Open</th>\n",
       "      <th>High</th>\n",
       "      <th>Low</th>\n",
       "      <th>Close</th>\n",
       "      <th>Adj Close</th>\n",
       "      <th>Volume</th>\n",
       "    </tr>\n",
       "  </thead>\n",
       "  <tbody>\n",
       "    <tr>\n",
       "      <th>0</th>\n",
       "      <td>1-Jan</td>\n",
       "      <td>24809.34961</td>\n",
       "      <td>26616.71094</td>\n",
       "      <td>24741.69922</td>\n",
       "      <td>26149.39063</td>\n",
       "      <td>26149.39063</td>\n",
       "      <td>9116920000</td>\n",
       "    </tr>\n",
       "    <tr>\n",
       "      <th>1</th>\n",
       "      <td>1-Feb</td>\n",
       "      <td>26083.03906</td>\n",
       "      <td>26306.69922</td>\n",
       "      <td>23360.28906</td>\n",
       "      <td>25029.19922</td>\n",
       "      <td>25029.19922</td>\n",
       "      <td>9450250000</td>\n",
       "    </tr>\n",
       "    <tr>\n",
       "      <th>2</th>\n",
       "      <td>1-Mar</td>\n",
       "      <td>25024.03906</td>\n",
       "      <td>25449.15039</td>\n",
       "      <td>23509.06055</td>\n",
       "      <td>24103.10938</td>\n",
       "      <td>24103.10938</td>\n",
       "      <td>8873040000</td>\n",
       "    </tr>\n",
       "    <tr>\n",
       "      <th>3</th>\n",
       "      <td>1-Apr</td>\n",
       "      <td>24076.59961</td>\n",
       "      <td>24858.97070</td>\n",
       "      <td>23344.51953</td>\n",
       "      <td>24163.15039</td>\n",
       "      <td>24163.15039</td>\n",
       "      <td>8064550000</td>\n",
       "    </tr>\n",
       "    <tr>\n",
       "      <th>4</th>\n",
       "      <td>1-May</td>\n",
       "      <td>24117.28906</td>\n",
       "      <td>25086.49023</td>\n",
       "      <td>23531.31055</td>\n",
       "      <td>24415.83984</td>\n",
       "      <td>24415.83984</td>\n",
       "      <td>7278020000</td>\n",
       "    </tr>\n",
       "    <tr>\n",
       "      <th>5</th>\n",
       "      <td>1-Jun</td>\n",
       "      <td>24542.08984</td>\n",
       "      <td>25402.83008</td>\n",
       "      <td>23997.21094</td>\n",
       "      <td>24271.41016</td>\n",
       "      <td>24271.41016</td>\n",
       "      <td>7411110000</td>\n",
       "    </tr>\n",
       "    <tr>\n",
       "      <th>6</th>\n",
       "      <td>1-Jul</td>\n",
       "      <td>24161.52930</td>\n",
       "      <td>25587.24023</td>\n",
       "      <td>24077.56055</td>\n",
       "      <td>25415.18945</td>\n",
       "      <td>25415.18945</td>\n",
       "      <td>5408500000</td>\n",
       "    </tr>\n",
       "    <tr>\n",
       "      <th>7</th>\n",
       "      <td>1-Aug</td>\n",
       "      <td>25461.63086</td>\n",
       "      <td>26167.93945</td>\n",
       "      <td>24965.76953</td>\n",
       "      <td>25964.82031</td>\n",
       "      <td>25964.82031</td>\n",
       "      <td>5635410000</td>\n",
       "    </tr>\n",
       "    <tr>\n",
       "      <th>8</th>\n",
       "      <td>1-Sep</td>\n",
       "      <td>25916.07031</td>\n",
       "      <td>26769.16016</td>\n",
       "      <td>25754.32031</td>\n",
       "      <td>26458.31055</td>\n",
       "      <td>26458.31055</td>\n",
       "      <td>5262500000</td>\n",
       "    </tr>\n",
       "    <tr>\n",
       "      <th>9</th>\n",
       "      <td>1-Oct</td>\n",
       "      <td>26598.35938</td>\n",
       "      <td>26951.81055</td>\n",
       "      <td>24122.23047</td>\n",
       "      <td>25115.75977</td>\n",
       "      <td>25115.75977</td>\n",
       "      <td>8373350000</td>\n",
       "    </tr>\n",
       "    <tr>\n",
       "      <th>10</th>\n",
       "      <td>1-Nov</td>\n",
       "      <td>25142.08008</td>\n",
       "      <td>26277.82031</td>\n",
       "      <td>24268.74023</td>\n",
       "      <td>25538.46094</td>\n",
       "      <td>25538.46094</td>\n",
       "      <td>7226940000</td>\n",
       "    </tr>\n",
       "    <tr>\n",
       "      <th>11</th>\n",
       "      <td>1-Dec</td>\n",
       "      <td>25779.57031</td>\n",
       "      <td>25980.21094</td>\n",
       "      <td>21712.52930</td>\n",
       "      <td>23327.46094</td>\n",
       "      <td>23327.46094</td>\n",
       "      <td>8101540000</td>\n",
       "    </tr>\n",
       "  </tbody>\n",
       "</table>\n",
       "</div>"
      ],
      "text/plain": [
       "   issue_d         Open         High          Low        Close    Adj Close  \\\n",
       "0    1-Jan  24809.34961  26616.71094  24741.69922  26149.39063  26149.39063   \n",
       "1    1-Feb  26083.03906  26306.69922  23360.28906  25029.19922  25029.19922   \n",
       "2    1-Mar  25024.03906  25449.15039  23509.06055  24103.10938  24103.10938   \n",
       "3    1-Apr  24076.59961  24858.97070  23344.51953  24163.15039  24163.15039   \n",
       "4    1-May  24117.28906  25086.49023  23531.31055  24415.83984  24415.83984   \n",
       "5    1-Jun  24542.08984  25402.83008  23997.21094  24271.41016  24271.41016   \n",
       "6    1-Jul  24161.52930  25587.24023  24077.56055  25415.18945  25415.18945   \n",
       "7    1-Aug  25461.63086  26167.93945  24965.76953  25964.82031  25964.82031   \n",
       "8    1-Sep  25916.07031  26769.16016  25754.32031  26458.31055  26458.31055   \n",
       "9    1-Oct  26598.35938  26951.81055  24122.23047  25115.75977  25115.75977   \n",
       "10   1-Nov  25142.08008  26277.82031  24268.74023  25538.46094  25538.46094   \n",
       "11   1-Dec  25779.57031  25980.21094  21712.52930  23327.46094  23327.46094   \n",
       "\n",
       "        Volume  \n",
       "0   9116920000  \n",
       "1   9450250000  \n",
       "2   8873040000  \n",
       "3   8064550000  \n",
       "4   7278020000  \n",
       "5   7411110000  \n",
       "6   5408500000  \n",
       "7   5635410000  \n",
       "8   5262500000  \n",
       "9   8373350000  \n",
       "10  7226940000  \n",
       "11  8101540000  "
      ]
     },
     "execution_count": 11,
     "metadata": {},
     "output_type": "execute_result"
    }
   ],
   "source": [
    "#Reading in DOW Jones Data\n",
    "otherdf= pd.read_csv('T Part/DJI.csv')\n",
    "otherdf.dropna()"
   ]
  },
  {
   "cell_type": "code",
   "execution_count": 12,
   "metadata": {},
   "outputs": [],
   "source": [
    "#Assigning month numbers for merging for DOW data\n",
    "otherdf[\"month_num\"] = \"\"\n",
    "otherdf.loc[otherdf['issue_d'].str[2:] == \"Dec\", ('month_num')] = (12)\n",
    "otherdf.loc[otherdf['issue_d'].str[2:] == \"Nov\", ('month_num')] = (11)\n",
    "otherdf.loc[otherdf['issue_d'].str[2:] == \"Oct\", ('month_num')] = (10)\n",
    "otherdf.loc[otherdf['issue_d'].str[2:] == \"Sep\", ('month_num')] = (9)\n",
    "otherdf.loc[otherdf['issue_d'].str[2:] == \"Aug\", ('month_num')] = (8)\n",
    "otherdf.loc[otherdf['issue_d'].str[2:] == \"Jul\", ('month_num')] = (7)\n",
    "otherdf.loc[otherdf['issue_d'].str[2:] == \"Jun\", ('month_num')] = (6)\n",
    "otherdf.loc[otherdf['issue_d'].str[2:] == \"May\", ('month_num')] = (5)\n",
    "otherdf.loc[otherdf['issue_d'].str[2:] == \"Apr\", ('month_num')] = (4)\n",
    "otherdf.loc[otherdf['issue_d'].str[2:] == \"Mar\", ('month_num')] = (3)\n",
    "otherdf.loc[otherdf['issue_d'].str[2:] == \"Feb\", ('month_num')] = (2)\n",
    "otherdf.loc[otherdf['issue_d'].str[2:] == \"Jan\", ('month_num')] = (1)\n",
    "otherdf.loc[otherdf['issue_d'].str[2:] == \"\", ('month_num')] = (0)"
   ]
  },
  {
   "cell_type": "code",
   "execution_count": 13,
   "metadata": {},
   "outputs": [
    {
     "data": {
      "text/html": [
       "<div>\n",
       "<style scoped>\n",
       "    .dataframe tbody tr th:only-of-type {\n",
       "        vertical-align: middle;\n",
       "    }\n",
       "\n",
       "    .dataframe tbody tr th {\n",
       "        vertical-align: top;\n",
       "    }\n",
       "\n",
       "    .dataframe thead th {\n",
       "        text-align: right;\n",
       "    }\n",
       "</style>\n",
       "<table border=\"1\" class=\"dataframe\">\n",
       "  <thead>\n",
       "    <tr style=\"text-align: right;\">\n",
       "      <th></th>\n",
       "      <th>issue_d</th>\n",
       "      <th>Open</th>\n",
       "      <th>High</th>\n",
       "      <th>Low</th>\n",
       "      <th>Close</th>\n",
       "      <th>Adj Close</th>\n",
       "      <th>Volume</th>\n",
       "      <th>month_num</th>\n",
       "    </tr>\n",
       "  </thead>\n",
       "  <tbody>\n",
       "    <tr>\n",
       "      <th>0</th>\n",
       "      <td>1-Jan</td>\n",
       "      <td>24809.34961</td>\n",
       "      <td>26616.71094</td>\n",
       "      <td>24741.69922</td>\n",
       "      <td>26149.39063</td>\n",
       "      <td>26149.39063</td>\n",
       "      <td>9116920000</td>\n",
       "      <td>1</td>\n",
       "    </tr>\n",
       "    <tr>\n",
       "      <th>1</th>\n",
       "      <td>1-Feb</td>\n",
       "      <td>26083.03906</td>\n",
       "      <td>26306.69922</td>\n",
       "      <td>23360.28906</td>\n",
       "      <td>25029.19922</td>\n",
       "      <td>25029.19922</td>\n",
       "      <td>9450250000</td>\n",
       "      <td>2</td>\n",
       "    </tr>\n",
       "    <tr>\n",
       "      <th>2</th>\n",
       "      <td>1-Mar</td>\n",
       "      <td>25024.03906</td>\n",
       "      <td>25449.15039</td>\n",
       "      <td>23509.06055</td>\n",
       "      <td>24103.10938</td>\n",
       "      <td>24103.10938</td>\n",
       "      <td>8873040000</td>\n",
       "      <td>3</td>\n",
       "    </tr>\n",
       "    <tr>\n",
       "      <th>3</th>\n",
       "      <td>1-Apr</td>\n",
       "      <td>24076.59961</td>\n",
       "      <td>24858.97070</td>\n",
       "      <td>23344.51953</td>\n",
       "      <td>24163.15039</td>\n",
       "      <td>24163.15039</td>\n",
       "      <td>8064550000</td>\n",
       "      <td>4</td>\n",
       "    </tr>\n",
       "    <tr>\n",
       "      <th>4</th>\n",
       "      <td>1-May</td>\n",
       "      <td>24117.28906</td>\n",
       "      <td>25086.49023</td>\n",
       "      <td>23531.31055</td>\n",
       "      <td>24415.83984</td>\n",
       "      <td>24415.83984</td>\n",
       "      <td>7278020000</td>\n",
       "      <td>5</td>\n",
       "    </tr>\n",
       "  </tbody>\n",
       "</table>\n",
       "</div>"
      ],
      "text/plain": [
       "  issue_d         Open         High          Low        Close    Adj Close  \\\n",
       "0   1-Jan  24809.34961  26616.71094  24741.69922  26149.39063  26149.39063   \n",
       "1   1-Feb  26083.03906  26306.69922  23360.28906  25029.19922  25029.19922   \n",
       "2   1-Mar  25024.03906  25449.15039  23509.06055  24103.10938  24103.10938   \n",
       "3   1-Apr  24076.59961  24858.97070  23344.51953  24163.15039  24163.15039   \n",
       "4   1-May  24117.28906  25086.49023  23531.31055  24415.83984  24415.83984   \n",
       "\n",
       "       Volume  month_num  \n",
       "0  9116920000          1  \n",
       "1  9450250000          2  \n",
       "2  8873040000          3  \n",
       "3  8064550000          4  \n",
       "4  7278020000          5  "
      ]
     },
     "execution_count": 13,
     "metadata": {},
     "output_type": "execute_result"
    }
   ],
   "source": [
    "#First 5 rows of Dow data\n",
    "otherdf.head()"
   ]
  },
  {
   "cell_type": "code",
   "execution_count": 14,
   "metadata": {
    "scrolled": false
   },
   "outputs": [
    {
     "data": {
      "text/html": [
       "<div>\n",
       "<style scoped>\n",
       "    .dataframe tbody tr th:only-of-type {\n",
       "        vertical-align: middle;\n",
       "    }\n",
       "\n",
       "    .dataframe tbody tr th {\n",
       "        vertical-align: top;\n",
       "    }\n",
       "\n",
       "    .dataframe thead th {\n",
       "        text-align: right;\n",
       "    }\n",
       "</style>\n",
       "<table border=\"1\" class=\"dataframe\">\n",
       "  <thead>\n",
       "    <tr style=\"text-align: right;\">\n",
       "      <th></th>\n",
       "      <th>loan_amnt</th>\n",
       "      <th>term</th>\n",
       "      <th>int_rate</th>\n",
       "      <th>emp_length</th>\n",
       "      <th>home_ownership</th>\n",
       "      <th>annual_inc</th>\n",
       "      <th>open_acc</th>\n",
       "      <th>month_num</th>\n",
       "      <th>Open</th>\n",
       "      <th>High</th>\n",
       "      <th>Low</th>\n",
       "      <th>Adj Close</th>\n",
       "    </tr>\n",
       "  </thead>\n",
       "  <tbody>\n",
       "    <tr>\n",
       "      <th>0</th>\n",
       "      <td>30000.0</td>\n",
       "      <td>36 months</td>\n",
       "      <td>7.34%</td>\n",
       "      <td>3 years</td>\n",
       "      <td>OWN</td>\n",
       "      <td>95000.0</td>\n",
       "      <td>10.0</td>\n",
       "      <td>3</td>\n",
       "      <td>19.959999</td>\n",
       "      <td>26.219999</td>\n",
       "      <td>13.31</td>\n",
       "      <td>19.969999</td>\n",
       "    </tr>\n",
       "    <tr>\n",
       "      <th>1</th>\n",
       "      <td>34825.0</td>\n",
       "      <td>60 months</td>\n",
       "      <td>12.61%</td>\n",
       "      <td>2 years</td>\n",
       "      <td>MORTGAGE</td>\n",
       "      <td>125000.0</td>\n",
       "      <td>12.0</td>\n",
       "      <td>3</td>\n",
       "      <td>19.959999</td>\n",
       "      <td>26.219999</td>\n",
       "      <td>13.31</td>\n",
       "      <td>19.969999</td>\n",
       "    </tr>\n",
       "    <tr>\n",
       "      <th>2</th>\n",
       "      <td>2600.0</td>\n",
       "      <td>36 months</td>\n",
       "      <td>7.96%</td>\n",
       "      <td>3 years</td>\n",
       "      <td>MORTGAGE</td>\n",
       "      <td>62000.0</td>\n",
       "      <td>8.0</td>\n",
       "      <td>3</td>\n",
       "      <td>19.959999</td>\n",
       "      <td>26.219999</td>\n",
       "      <td>13.31</td>\n",
       "      <td>19.969999</td>\n",
       "    </tr>\n",
       "    <tr>\n",
       "      <th>3</th>\n",
       "      <td>20000.0</td>\n",
       "      <td>60 months</td>\n",
       "      <td>9.92%</td>\n",
       "      <td>3 years</td>\n",
       "      <td>MORTGAGE</td>\n",
       "      <td>110000.0</td>\n",
       "      <td>9.0</td>\n",
       "      <td>3</td>\n",
       "      <td>19.959999</td>\n",
       "      <td>26.219999</td>\n",
       "      <td>13.31</td>\n",
       "      <td>19.969999</td>\n",
       "    </tr>\n",
       "    <tr>\n",
       "      <th>4</th>\n",
       "      <td>17000.0</td>\n",
       "      <td>60 months</td>\n",
       "      <td>20.39%</td>\n",
       "      <td>10+ years</td>\n",
       "      <td>RENT</td>\n",
       "      <td>52000.0</td>\n",
       "      <td>9.0</td>\n",
       "      <td>3</td>\n",
       "      <td>19.959999</td>\n",
       "      <td>26.219999</td>\n",
       "      <td>13.31</td>\n",
       "      <td>19.969999</td>\n",
       "    </tr>\n",
       "  </tbody>\n",
       "</table>\n",
       "</div>"
      ],
      "text/plain": [
       "   loan_amnt        term int_rate emp_length home_ownership  annual_inc  \\\n",
       "0    30000.0   36 months    7.34%    3 years            OWN     95000.0   \n",
       "1    34825.0   60 months   12.61%    2 years       MORTGAGE    125000.0   \n",
       "2     2600.0   36 months    7.96%    3 years       MORTGAGE     62000.0   \n",
       "3    20000.0   60 months    9.92%    3 years       MORTGAGE    110000.0   \n",
       "4    17000.0   60 months   20.39%  10+ years           RENT     52000.0   \n",
       "\n",
       "   open_acc month_num       Open       High    Low  Adj Close  \n",
       "0      10.0         3  19.959999  26.219999  13.31  19.969999  \n",
       "1      12.0         3  19.959999  26.219999  13.31  19.969999  \n",
       "2       8.0         3  19.959999  26.219999  13.31  19.969999  \n",
       "3       9.0         3  19.959999  26.219999  13.31  19.969999  \n",
       "4       9.0         3  19.959999  26.219999  13.31  19.969999  "
      ]
     },
     "execution_count": 14,
     "metadata": {},
     "output_type": "execute_result"
    }
   ],
   "source": [
    "#Merged Loan data with Vix data\n",
    "merged_df = bigdf.merge(cleanmydf,how = \"inner\",on = \"month_num\")\n",
    "new_merged_df= merged_df.drop(['Close','issue_d_x','issue_d_y','installment'],axis = 1)\n",
    "pd.DataFrame(new_merged_df).head()"
   ]
  },
  {
   "cell_type": "code",
   "execution_count": 15,
   "metadata": {},
   "outputs": [
    {
     "data": {
      "text/html": [
       "<div>\n",
       "<style scoped>\n",
       "    .dataframe tbody tr th:only-of-type {\n",
       "        vertical-align: middle;\n",
       "    }\n",
       "\n",
       "    .dataframe tbody tr th {\n",
       "        vertical-align: top;\n",
       "    }\n",
       "\n",
       "    .dataframe thead th {\n",
       "        text-align: right;\n",
       "    }\n",
       "</style>\n",
       "<table border=\"1\" class=\"dataframe\">\n",
       "  <thead>\n",
       "    <tr style=\"text-align: right;\">\n",
       "      <th></th>\n",
       "      <th>loan_amnt</th>\n",
       "      <th>term</th>\n",
       "      <th>int_rate</th>\n",
       "      <th>emp_length</th>\n",
       "      <th>home_ownership</th>\n",
       "      <th>annual_inc</th>\n",
       "      <th>open_acc</th>\n",
       "      <th>month_num</th>\n",
       "      <th>Open</th>\n",
       "      <th>High</th>\n",
       "      <th>Low</th>\n",
       "      <th>Adj Close</th>\n",
       "    </tr>\n",
       "  </thead>\n",
       "  <tbody>\n",
       "    <tr>\n",
       "      <th>0</th>\n",
       "      <td>30000.0</td>\n",
       "      <td>36 months</td>\n",
       "      <td>7.34</td>\n",
       "      <td>3 years</td>\n",
       "      <td>OWN</td>\n",
       "      <td>95000.0</td>\n",
       "      <td>10.0</td>\n",
       "      <td>3</td>\n",
       "      <td>19.959999</td>\n",
       "      <td>26.219999</td>\n",
       "      <td>13.31</td>\n",
       "      <td>19.969999</td>\n",
       "    </tr>\n",
       "    <tr>\n",
       "      <th>1</th>\n",
       "      <td>34825.0</td>\n",
       "      <td>60 months</td>\n",
       "      <td>12.61</td>\n",
       "      <td>2 years</td>\n",
       "      <td>MORTGAGE</td>\n",
       "      <td>125000.0</td>\n",
       "      <td>12.0</td>\n",
       "      <td>3</td>\n",
       "      <td>19.959999</td>\n",
       "      <td>26.219999</td>\n",
       "      <td>13.31</td>\n",
       "      <td>19.969999</td>\n",
       "    </tr>\n",
       "    <tr>\n",
       "      <th>2</th>\n",
       "      <td>2600.0</td>\n",
       "      <td>36 months</td>\n",
       "      <td>7.96</td>\n",
       "      <td>3 years</td>\n",
       "      <td>MORTGAGE</td>\n",
       "      <td>62000.0</td>\n",
       "      <td>8.0</td>\n",
       "      <td>3</td>\n",
       "      <td>19.959999</td>\n",
       "      <td>26.219999</td>\n",
       "      <td>13.31</td>\n",
       "      <td>19.969999</td>\n",
       "    </tr>\n",
       "    <tr>\n",
       "      <th>3</th>\n",
       "      <td>20000.0</td>\n",
       "      <td>60 months</td>\n",
       "      <td>9.92</td>\n",
       "      <td>3 years</td>\n",
       "      <td>MORTGAGE</td>\n",
       "      <td>110000.0</td>\n",
       "      <td>9.0</td>\n",
       "      <td>3</td>\n",
       "      <td>19.959999</td>\n",
       "      <td>26.219999</td>\n",
       "      <td>13.31</td>\n",
       "      <td>19.969999</td>\n",
       "    </tr>\n",
       "    <tr>\n",
       "      <th>4</th>\n",
       "      <td>17000.0</td>\n",
       "      <td>60 months</td>\n",
       "      <td>20.39</td>\n",
       "      <td>10+ years</td>\n",
       "      <td>RENT</td>\n",
       "      <td>52000.0</td>\n",
       "      <td>9.0</td>\n",
       "      <td>3</td>\n",
       "      <td>19.959999</td>\n",
       "      <td>26.219999</td>\n",
       "      <td>13.31</td>\n",
       "      <td>19.969999</td>\n",
       "    </tr>\n",
       "  </tbody>\n",
       "</table>\n",
       "</div>"
      ],
      "text/plain": [
       "   loan_amnt        term  int_rate emp_length home_ownership  annual_inc  \\\n",
       "0    30000.0   36 months      7.34    3 years            OWN     95000.0   \n",
       "1    34825.0   60 months     12.61    2 years       MORTGAGE    125000.0   \n",
       "2     2600.0   36 months      7.96    3 years       MORTGAGE     62000.0   \n",
       "3    20000.0   60 months      9.92    3 years       MORTGAGE    110000.0   \n",
       "4    17000.0   60 months     20.39  10+ years           RENT     52000.0   \n",
       "\n",
       "   open_acc month_num       Open       High    Low  Adj Close  \n",
       "0      10.0         3  19.959999  26.219999  13.31  19.969999  \n",
       "1      12.0         3  19.959999  26.219999  13.31  19.969999  \n",
       "2       8.0         3  19.959999  26.219999  13.31  19.969999  \n",
       "3       9.0         3  19.959999  26.219999  13.31  19.969999  \n",
       "4       9.0         3  19.959999  26.219999  13.31  19.969999  "
      ]
     },
     "execution_count": 15,
     "metadata": {},
     "output_type": "execute_result"
    }
   ],
   "source": [
    "#Made int_rate column from string to float \n",
    "new_merged_df['int_rate'] = new_merged_df['int_rate'].str[:-1].astype(float)\n",
    "new_merged_df.head()"
   ]
  },
  {
   "cell_type": "code",
   "execution_count": 16,
   "metadata": {},
   "outputs": [
    {
     "data": {
      "text/plain": [
       "['Jan',\n",
       " 'Feb',\n",
       " 'Mar',\n",
       " 'Apr',\n",
       " 'May',\n",
       " 'June',\n",
       " 'July',\n",
       " 'Aug',\n",
       " 'Sept',\n",
       " 'Oct',\n",
       " 'Nov',\n",
       " 'Dec']"
      ]
     },
     "execution_count": 16,
     "metadata": {},
     "output_type": "execute_result"
    }
   ],
   "source": [
    "#Grouping data by months\n",
    "Jan = new_merged_df[new_merged_df[\"month_num\"] == 1]\n",
    "Feb = new_merged_df[new_merged_df[\"month_num\"] == 2]\n",
    "Mar = new_merged_df[new_merged_df[\"month_num\"] == 3]\n",
    "Apr = new_merged_df[new_merged_df[\"month_num\"] == 4]\n",
    "May = new_merged_df[new_merged_df[\"month_num\"] == 5]\n",
    "Jun = new_merged_df[new_merged_df[\"month_num\"] == 6]\n",
    "Jul = new_merged_df[new_merged_df[\"month_num\"] == 7]\n",
    "Aug = new_merged_df[new_merged_df[\"month_num\"] == 8]\n",
    "Sept = new_merged_df[new_merged_df[\"month_num\"] == 9]\n",
    "Oct = new_merged_df[new_merged_df[\"month_num\"] == 10]\n",
    "Nov = new_merged_df[new_merged_df[\"month_num\"] == 11]\n",
    "Dec = new_merged_df[new_merged_df[\"month_num\"] == 12]\n",
    "Months = ['Jan', 'Feb', 'Mar', 'Apr', 'May','June','July','Aug','Sept','Oct','Nov',\"Dec\"]\n",
    "Months"
   ]
  },
  {
   "cell_type": "code",
   "execution_count": 17,
   "metadata": {},
   "outputs": [
    {
     "data": {
      "text/html": [
       "<div>\n",
       "<style scoped>\n",
       "    .dataframe tbody tr th:only-of-type {\n",
       "        vertical-align: middle;\n",
       "    }\n",
       "\n",
       "    .dataframe tbody tr th {\n",
       "        vertical-align: top;\n",
       "    }\n",
       "\n",
       "    .dataframe thead th {\n",
       "        text-align: right;\n",
       "    }\n",
       "</style>\n",
       "<table border=\"1\" class=\"dataframe\">\n",
       "  <thead>\n",
       "    <tr style=\"text-align: right;\">\n",
       "      <th></th>\n",
       "      <th>loan_amnt</th>\n",
       "      <th>term</th>\n",
       "      <th>int_rate</th>\n",
       "      <th>emp_length</th>\n",
       "      <th>home_ownership</th>\n",
       "      <th>annual_inc</th>\n",
       "      <th>open_acc</th>\n",
       "      <th>month_num</th>\n",
       "      <th>Open</th>\n",
       "      <th>High</th>\n",
       "      <th>Low</th>\n",
       "      <th>Adj Close</th>\n",
       "    </tr>\n",
       "  </thead>\n",
       "  <tbody>\n",
       "    <tr>\n",
       "      <th>71517</th>\n",
       "      <td>6500.0</td>\n",
       "      <td>36 months</td>\n",
       "      <td>7.97</td>\n",
       "      <td>10+ years</td>\n",
       "      <td>MORTGAGE</td>\n",
       "      <td>24000.0</td>\n",
       "      <td>5.0</td>\n",
       "      <td>1</td>\n",
       "      <td>10.95</td>\n",
       "      <td>15.42</td>\n",
       "      <td>8.92</td>\n",
       "      <td>13.54</td>\n",
       "    </tr>\n",
       "    <tr>\n",
       "      <th>71518</th>\n",
       "      <td>13200.0</td>\n",
       "      <td>36 months</td>\n",
       "      <td>5.32</td>\n",
       "      <td>4 years</td>\n",
       "      <td>OWN</td>\n",
       "      <td>85000.0</td>\n",
       "      <td>7.0</td>\n",
       "      <td>1</td>\n",
       "      <td>10.95</td>\n",
       "      <td>15.42</td>\n",
       "      <td>8.92</td>\n",
       "      <td>13.54</td>\n",
       "    </tr>\n",
       "    <tr>\n",
       "      <th>71519</th>\n",
       "      <td>30000.0</td>\n",
       "      <td>36 months</td>\n",
       "      <td>16.02</td>\n",
       "      <td>10+ years</td>\n",
       "      <td>MORTGAGE</td>\n",
       "      <td>75000.0</td>\n",
       "      <td>17.0</td>\n",
       "      <td>1</td>\n",
       "      <td>10.95</td>\n",
       "      <td>15.42</td>\n",
       "      <td>8.92</td>\n",
       "      <td>13.54</td>\n",
       "    </tr>\n",
       "    <tr>\n",
       "      <th>71520</th>\n",
       "      <td>4500.0</td>\n",
       "      <td>36 months</td>\n",
       "      <td>6.08</td>\n",
       "      <td>10+ years</td>\n",
       "      <td>RENT</td>\n",
       "      <td>36000.0</td>\n",
       "      <td>23.0</td>\n",
       "      <td>1</td>\n",
       "      <td>10.95</td>\n",
       "      <td>15.42</td>\n",
       "      <td>8.92</td>\n",
       "      <td>13.54</td>\n",
       "    </tr>\n",
       "    <tr>\n",
       "      <th>71521</th>\n",
       "      <td>8000.0</td>\n",
       "      <td>36 months</td>\n",
       "      <td>21.45</td>\n",
       "      <td>6 years</td>\n",
       "      <td>MORTGAGE</td>\n",
       "      <td>34000.0</td>\n",
       "      <td>11.0</td>\n",
       "      <td>1</td>\n",
       "      <td>10.95</td>\n",
       "      <td>15.42</td>\n",
       "      <td>8.92</td>\n",
       "      <td>13.54</td>\n",
       "    </tr>\n",
       "  </tbody>\n",
       "</table>\n",
       "</div>"
      ],
      "text/plain": [
       "       loan_amnt        term  int_rate emp_length home_ownership  annual_inc  \\\n",
       "71517     6500.0   36 months      7.97  10+ years       MORTGAGE     24000.0   \n",
       "71518    13200.0   36 months      5.32    4 years            OWN     85000.0   \n",
       "71519    30000.0   36 months     16.02  10+ years       MORTGAGE     75000.0   \n",
       "71520     4500.0   36 months      6.08  10+ years           RENT     36000.0   \n",
       "71521     8000.0   36 months     21.45    6 years       MORTGAGE     34000.0   \n",
       "\n",
       "       open_acc month_num   Open   High   Low  Adj Close  \n",
       "71517       5.0         1  10.95  15.42  8.92      13.54  \n",
       "71518       7.0         1  10.95  15.42  8.92      13.54  \n",
       "71519      17.0         1  10.95  15.42  8.92      13.54  \n",
       "71520      23.0         1  10.95  15.42  8.92      13.54  \n",
       "71521      11.0         1  10.95  15.42  8.92      13.54  "
      ]
     },
     "execution_count": 17,
     "metadata": {},
     "output_type": "execute_result"
    }
   ],
   "source": [
    "#Ensuring that data is grouped\n",
    "Jan.head()"
   ]
  },
  {
   "cell_type": "code",
   "execution_count": 18,
   "metadata": {},
   "outputs": [
    {
     "data": {
      "text/plain": [
       "[36347,\n",
       " 32746,\n",
       " 38771,\n",
       " 42928,\n",
       " 46311,\n",
       " 41533,\n",
       " 43089,\n",
       " 46079,\n",
       " 39026,\n",
       " 46305,\n",
       " 41973,\n",
       " 40134]"
      ]
     },
     "execution_count": 18,
     "metadata": {},
     "output_type": "execute_result"
    }
   ],
   "source": [
    "#Create object to store number of loans\n",
    "Number_of_loans= [len(Jan),len(Feb),len(Mar),len(Apr),\n",
    "                  len(May),len(Jun),len(Jul),len(Aug),\n",
    "                 len(Sept),len(Oct),len(Nov),len(Dec)]\n",
    "#Making sure it works\n",
    "Number_of_loans"
   ]
  },
  {
   "cell_type": "code",
   "execution_count": 19,
   "metadata": {},
   "outputs": [
    {
     "data": {
      "text/plain": [
       "0     7411.479980\n",
       "1     7273.009766\n",
       "2     7063.450195\n",
       "3     7066.270020\n",
       "4     7442.120117\n",
       "5     7510.299805\n",
       "6     7671.790039\n",
       "7     8109.540039\n",
       "8     8046.350098\n",
       "9     7305.899902\n",
       "10    7330.540039\n",
       "11    6635.279785\n",
       "Name: Adj Close, dtype: float64"
      ]
     },
     "execution_count": 19,
     "metadata": {},
     "output_type": "execute_result"
    }
   ],
   "source": [
    "nasdaq_close = nasdaq_df['Adj Close']\n",
    "nasdaq_close"
   ]
  },
  {
   "cell_type": "code",
   "execution_count": 20,
   "metadata": {},
   "outputs": [
    {
     "data": {
      "image/png": "[encoded data removed]",
      "text/plain": [
       "<Figure size 432x288 with 1 Axes>"
      ]
     },
     "metadata": {
      "needs_background": "light"
     },
     "output_type": "display_data"
    }
   ],
   "source": [
    "#Created Chart to show NASDAQ Performance\n",
    "Loans_to_Time = plt.plot(Months, nasdaq_close, marker=\"+\",color=\"blue\", linewidth=1, label=\"NASAQ\")\n",
    "plt.title(\"NASDAQ Performance in 2018\")\n",
    "plt.legend(loc=\"best\")\n",
    "plt.xlabel(\"Months\")\n",
    "plt.ylabel(\"NASDAQ\")\n",
    "plt.savefig(\"T Part/NASDAQ.png\")"
   ]
  },
  {
   "cell_type": "code",
   "execution_count": 21,
   "metadata": {},
   "outputs": [
    {
     "data": {
      "image/png": "[encoded data removed]",
      "text/plain": [
       "<Figure size 432x288 with 1 Axes>"
      ]
     },
     "metadata": {
      "needs_background": "light"
     },
     "output_type": "display_data"
    }
   ],
   "source": [
    "#Created Chart to show number of loans in 2018\n",
    "Loans_to_Time = plt.plot(Months, Number_of_loans, marker=\"+\",color=\"blue\", linewidth=1, label=\"Loans\")\n",
    "plt.title(\"Number of Loans over Time\")\n",
    "plt.legend(loc=\"best\")\n",
    "plt.xlabel(\"Months\")\n",
    "plt.ylabel(\"# of Loans\")\n",
    "plt.savefig(\"T Part/Loans to Time.png\")"
   ]
  },
  {
   "cell_type": "code",
   "execution_count": 22,
   "metadata": {},
   "outputs": [
    {
     "data": {
      "text/plain": [
       "[12.385711337935462,\n",
       " 12.460560984546227,\n",
       " 12.431085605220568,\n",
       " 12.531480851658856,\n",
       " 12.585767528233356,\n",
       " 12.561177136255585,\n",
       " 13.08095267933704,\n",
       " 12.988853056705207,\n",
       " 12.78003561727931,\n",
       " 12.750407731344968,\n",
       " 13.081794010433915,\n",
       " 12.980793342302016]"
      ]
     },
     "execution_count": 22,
     "metadata": {},
     "output_type": "execute_result"
    }
   ],
   "source": [
    "#Created object to store the average interest rate each month\n",
    "interest_rate_mean = [Jan[\"int_rate\"].mean(),Feb[\"int_rate\"].mean(),Mar[\"int_rate\"].mean(),\n",
    "                     Apr[\"int_rate\"].mean(),May[\"int_rate\"].mean(),Jun[\"int_rate\"].mean(),\n",
    "                     Jul[\"int_rate\"].mean(),Aug[\"int_rate\"].mean(),Sept[\"int_rate\"].mean(),\n",
    "                     Oct[\"int_rate\"].mean(),Nov[\"int_rate\"].mean(),Dec[\"int_rate\"].mean()]\n",
    "interest_rate_mean"
   ]
  },
  {
   "cell_type": "code",
   "execution_count": 23,
   "metadata": {},
   "outputs": [
    {
     "data": {
      "image/png": "[encoded data removed]",
      "text/plain": [
       "<Figure size 432x288 with 1 Axes>"
      ]
     },
     "metadata": {
      "needs_background": "light"
     },
     "output_type": "display_data"
    }
   ],
   "source": [
    "#Chart comparing the average interest rate over 2018\n",
    "Interest_to_Time = plt.plot(Months, interest_rate_mean, marker=\"+\",color=\"blue\", linewidth=1, label=\"Interest Rate\")\n",
    "plt.title(\"Rate to Time\")\n",
    "plt.legend(loc=\"best\")\n",
    "plt.xlabel(\"Months\")\n",
    "plt.ylabel(\"Average Interest Rate\")\n",
    "plt.savefig(\"T Part/InterestRatetoTime.png\")"
   ]
  },
  {
   "cell_type": "code",
   "execution_count": 24,
   "metadata": {},
   "outputs": [
    {
     "data": {
      "text/plain": [
       "[584275125.0,\n",
       " 533093100.0,\n",
       " 624413475.0,\n",
       " 685339900.0,\n",
       " 733698150.0,\n",
       " 661391150.0,\n",
       " 688012100.0,\n",
       " 739736100.0,\n",
       " 635394775.0,\n",
       " 746131475.0,\n",
       " 666934725.0,\n",
       " 637843075.0]"
      ]
     },
     "execution_count": 24,
     "metadata": {},
     "output_type": "execute_result"
    }
   ],
   "source": [
    "#Object containing the sum of the loans given out\n",
    "total_loans_in_dollars = [Jan[\"loan_amnt\"].sum(),Feb[\"loan_amnt\"].sum(),Mar[\"loan_amnt\"].sum(),\n",
    "                     Apr[\"loan_amnt\"].sum(),May[\"loan_amnt\"].sum(),Jun[\"loan_amnt\"].sum(),\n",
    "                     Jul[\"loan_amnt\"].sum(),Aug[\"loan_amnt\"].sum(),Sept[\"loan_amnt\"].sum(),\n",
    "                     Oct[\"loan_amnt\"].sum(),Nov[\"loan_amnt\"].sum(),Dec[\"loan_amnt\"].sum()]\n",
    "total_loans_in_dollars"
   ]
  },
  {
   "cell_type": "code",
   "execution_count": 25,
   "metadata": {
    "scrolled": true
   },
   "outputs": [
    {
     "data": {
      "image/png": "[encoded data removed]",
      "text/plain": [
       "<Figure size 432x288 with 1 Axes>"
      ]
     },
     "metadata": {
      "needs_background": "light"
     },
     "output_type": "display_data"
    }
   ],
   "source": [
    "#Chart showing the sum of the loans given out\n",
    "Loans_in_dollars_to_Time = plt.plot(Months, total_loans_in_dollars, marker=\"+\",color=\"blue\", linewidth=1, \n",
    "                                    label=\"Sum of Loans\")\n",
    "plt.title(\"Loans in Dollars to Months\")\n",
    "plt.legend(loc=\"best\")\n",
    "plt.xlabel(\"Months\")\n",
    "plt.ylabel(\"Total Loans Given Out (10^8)\")\n",
    "plt.savefig(\"T Part/Loans in Dollars.png\")"
   ]
  },
  {
   "cell_type": "code",
   "execution_count": 26,
   "metadata": {
    "scrolled": false
   },
   "outputs": [
    {
     "data": {
      "text/plain": [
       "0     26149.39063\n",
       "1     25029.19922\n",
       "2     24103.10938\n",
       "3     24163.15039\n",
       "4     24415.83984\n",
       "5     24271.41016\n",
       "6     25415.18945\n",
       "7     25964.82031\n",
       "8     26458.31055\n",
       "9     25115.75977\n",
       "10    25538.46094\n",
       "11    23327.46094\n",
       "Name: Adj Close, dtype: float64"
      ]
     },
     "execution_count": 26,
     "metadata": {},
     "output_type": "execute_result"
    }
   ],
   "source": [
    "#List containing the Adjusted Close of the DOW\n",
    "close = otherdf[\"Adj Close\"]\n",
    "close"
   ]
  },
  {
   "cell_type": "code",
   "execution_count": 27,
   "metadata": {},
   "outputs": [
    {
     "data": {
      "image/png": "[encoded data removed]",
      "text/plain": [
       "<Figure size 432x288 with 1 Axes>"
      ]
     },
     "metadata": {
      "needs_background": "light"
     },
     "output_type": "display_data"
    }
   ],
   "source": [
    "#Create chart showing performance of the DOW\n",
    "dow = plt.plot(Months, close, marker=\"+\",color=\"blue\", linewidth=1, label=\"DOW\")\n",
    "plt.title(\"Dow Performance to Time\")\n",
    "plt.legend(loc=\"best\")\n",
    "plt.xlabel(\"Months\")\n",
    "plt.ylabel(\"Performance\")\n",
    "plt.savefig(\"T Part/DOW.png\")"
   ]
  },
  {
   "cell_type": "code",
   "execution_count": 28,
   "metadata": {},
   "outputs": [
    {
     "data": {
      "text/plain": [
       "0     13.540000\n",
       "1     19.850000\n",
       "2     19.969999\n",
       "3     15.930000\n",
       "4     15.430000\n",
       "5     16.090000\n",
       "6     12.830000\n",
       "7     12.860000\n",
       "8     12.120000\n",
       "9     21.230000\n",
       "10    18.070000\n",
       "11    25.420000\n",
       "Name: Adj Close, dtype: float64"
      ]
     },
     "execution_count": 28,
     "metadata": {},
     "output_type": "execute_result"
    }
   ],
   "source": [
    "#Create a list showing the adjusted close of the VIX\n",
    "vix= cleanmydf[\"Adj Close\"]\n",
    "vix"
   ]
  },
  {
   "cell_type": "code",
   "execution_count": 29,
   "metadata": {},
   "outputs": [
    {
     "data": {
      "image/png": "[encoded data removed]",
      "text/plain": [
       "<Figure size 432x288 with 1 Axes>"
      ]
     },
     "metadata": {
      "needs_background": "light"
     },
     "output_type": "display_data"
    }
   ],
   "source": [
    "#Create chart showing performance of the VIX\n",
    "vix_data = plt.plot(Months, vix, marker=\"+\",color=\"blue\", linewidth=1, label=\"VIX\")\n",
    "plt.title(\"VIX Performance\")\n",
    "plt.legend(loc=\"best\")\n",
    "plt.xlabel(\"Months\")\n",
    "plt.ylabel(\"Performance\")\n",
    "plt.savefig(\"T Part/VIX.png\")\n",
    "plt.show()"
   ]
  },
  {
   "cell_type": "code",
   "execution_count": 46,
   "metadata": {},
   "outputs": [
    {
     "data": {
      "image/png": "[encoded data removed]",
      "text/plain": [
       "<Figure size 432x288 with 2 Axes>"
      ]
     },
     "metadata": {
      "needs_background": "light"
     },
     "output_type": "display_data"
    }
   ],
   "source": [
    "#Comparing VIX vs the Average interest rate\n",
    "fig, ax1 = plt.subplots()\n",
    "plt.title(\"VIX vs Average Interest Rate\")\n",
    "color = 'tab:red'\n",
    "ax1.set_xlabel('Months')\n",
    "ax1.set_ylabel('Average Interest Rate', color=color)\n",
    "ax1.plot(Months, interest_rate_mean, color=color)\n",
    "ax1.tick_params(axis='y', labelcolor=color)\n",
    "\n",
    "ax2 = ax1.twinx()  \n",
    "\n",
    "color = 'tab:blue'\n",
    "ax2.set_ylabel('VIX', color=color) \n",
    "ax2.plot(Months, vix, color=color)\n",
    "ax2.tick_params(axis='y', labelcolor=color)\n",
    "\n",
    "\n",
    "#ax3 = ax1.twinx()\n",
    "#color = 'tab:green'\n",
    "#ax3.set_ylabel('DOW', color=color)  \n",
    "#ax3.plot(Months, close, color=color)\n",
    "#ax3.tick_params(axis='y', labelcolor=color)\n",
    "plt.savefig(\"T Part/VIXvsInterest.png\")\n",
    "\n",
    "fig.tight_layout()  \n",
    "plt.show()\n"
   ]
  },
  {
   "cell_type": "code",
   "execution_count": 31,
   "metadata": {},
   "outputs": [
    {
     "data": {
      "text/plain": [
       "SpearmanrResult(correlation=-0.18181818181818185, pvalue=0.5717012385276553)"
      ]
     },
     "execution_count": 31,
     "metadata": {},
     "output_type": "execute_result"
    }
   ],
   "source": [
    "spearmanr(vix, interest_rate_mean)"
   ]
  },
  {
   "cell_type": "code",
   "execution_count": 47,
   "metadata": {},
   "outputs": [
    {
     "data": {
      "image/png": "[encoded data removed]",
      "text/plain": [
       "<Figure size 432x288 with 2 Axes>"
      ]
     },
     "metadata": {
      "needs_background": "light"
     },
     "output_type": "display_data"
    }
   ],
   "source": [
    "#Chart comparing DOW to average interest rate\n",
    "fig, ax1 = plt.subplots()\n",
    "plt.title(\"DOW vs Average Interest Rate\")\n",
    "color = 'tab:red'\n",
    "ax1.set_xlabel('Months')\n",
    "ax1.set_ylabel('Average Interest Rate', color=color)\n",
    "ax1.plot(Months, interest_rate_mean, color=color)\n",
    "ax1.tick_params(axis='y', labelcolor=color)\n",
    "\n",
    "ax2 = ax1.twinx()\n",
    "\n",
    "color = 'tab:blue'\n",
    "ax2.set_ylabel('DOW', color=color)\n",
    "ax2.plot(Months, close, color=color)\n",
    "ax2.tick_params(axis='y', labelcolor=color)\n",
    "plt.savefig(\"T Part/DOWvsInterest.png\")\n",
    "\n",
    "fig.tight_layout()\n",
    "plt.show()"
   ]
  },
  {
   "cell_type": "code",
   "execution_count": 33,
   "metadata": {},
   "outputs": [
    {
     "data": {
      "text/plain": [
       "SpearmanrResult(correlation=0.2657342657342658, pvalue=0.40383308831471165)"
      ]
     },
     "execution_count": 33,
     "metadata": {},
     "output_type": "execute_result"
    }
   ],
   "source": [
    "spearmanr(interest_rate_mean,close)"
   ]
  },
  {
   "cell_type": "code",
   "execution_count": 48,
   "metadata": {},
   "outputs": [
    {
     "data": {
      "image/png": "[encoded data removed]",
      "text/plain": [
       "<Figure size 432x288 with 2 Axes>"
      ]
     },
     "metadata": {
      "needs_background": "light"
     },
     "output_type": "display_data"
    }
   ],
   "source": [
    "#Chart comparing DOW to average interest rate\n",
    "fig, ax1 = plt.subplots()\n",
    "plt.title(\"NASDAQ vs Average Interest Rate\")\n",
    "color = 'tab:red'\n",
    "ax1.set_xlabel('Months')\n",
    "ax1.set_ylabel('Average Interest Rate', color=color)\n",
    "ax1.plot(Months, interest_rate_mean, color=color)\n",
    "ax1.tick_params(axis='y', labelcolor=color)\n",
    "\n",
    "ax2 = ax1.twinx()\n",
    "\n",
    "color = 'tab:blue'\n",
    "ax2.set_ylabel('NASDAQ', color=color)\n",
    "ax2.plot(Months, nasdaq_close, color=color)\n",
    "ax2.tick_params(axis='y', labelcolor=color)\n",
    "plt.savefig(\"T Part/NasdaqvsInterest.png\")\n",
    "\n",
    "fig.tight_layout()\n",
    "plt.show()"
   ]
  },
  {
   "cell_type": "code",
   "execution_count": 35,
   "metadata": {},
   "outputs": [
    {
     "data": {
      "text/plain": [
       "SpearmanrResult(correlation=0.3846153846153847, pvalue=0.21702022575997748)"
      ]
     },
     "execution_count": 35,
     "metadata": {},
     "output_type": "execute_result"
    }
   ],
   "source": [
    "spearmanr(interest_rate_mean,nasdaq_close)"
   ]
  },
  {
   "cell_type": "code",
   "execution_count": 49,
   "metadata": {
    "scrolled": true
   },
   "outputs": [
    {
     "data": {
      "image/png": "[encoded data removed]",
      "text/plain": [
       "<Figure size 432x288 with 2 Axes>"
      ]
     },
     "metadata": {
      "needs_background": "light"
     },
     "output_type": "display_data"
    }
   ],
   "source": [
    "#Chart comparing DOW to # of Loans lended\n",
    "fig, ax1 = plt.subplots()\n",
    "plt.title(\"DOW vs # of Loans lended out\")\n",
    "color = 'tab:red'\n",
    "ax1.set_xlabel('Months')\n",
    "ax1.set_ylabel('# of Loans', color=color)\n",
    "ax1.plot(Months, Number_of_loans, color=color)\n",
    "ax1.tick_params(axis='y', labelcolor=color)\n",
    "\n",
    "ax2 = ax1.twinx()\n",
    "\n",
    "color = 'tab:blue'\n",
    "ax2.set_ylabel('DOW', color=color)\n",
    "ax2.plot(Months, close, color=color)\n",
    "ax2.tick_params(axis='y', labelcolor=color)\n",
    "plt.savefig(\"T Part/Dowvsloans.png\")\n",
    "\n",
    "fig.tight_layout()\n",
    "plt.show()"
   ]
  },
  {
   "cell_type": "code",
   "execution_count": 50,
   "metadata": {},
   "outputs": [
    {
     "data": {
      "text/plain": [
       "SpearmanrResult(correlation=0.0, pvalue=1.0)"
      ]
     },
     "execution_count": 50,
     "metadata": {},
     "output_type": "execute_result"
    }
   ],
   "source": [
    "spearmanr(Number_of_loans,close)"
   ]
  },
  {
   "cell_type": "code",
   "execution_count": 51,
   "metadata": {
    "scrolled": false
   },
   "outputs": [
    {
     "data": {
      "image/png": "[encoded data removed]",
      "text/plain": [
       "<Figure size 432x288 with 2 Axes>"
      ]
     },
     "metadata": {
      "needs_background": "light"
     },
     "output_type": "display_data"
    }
   ],
   "source": [
    "#Chart comparing NASDAQ to # of loans lended\n",
    "fig, ax1 = plt.subplots()\n",
    "plt.title(\"NASDAQ vs # of Loans Lended\")\n",
    "color = 'tab:red'\n",
    "ax1.set_xlabel('Months')\n",
    "ax1.set_ylabel('# of Loans', color=color)\n",
    "ax1.plot(Months, Number_of_loans, color=color)\n",
    "ax1.tick_params(axis='y', labelcolor=color)\n",
    "\n",
    "ax2 = ax1.twinx()\n",
    "\n",
    "color = 'tab:blue'\n",
    "ax2.set_ylabel('NASDAQ', color=color)\n",
    "ax2.plot(Months, close, color=color)\n",
    "ax2.tick_params(axis='y', labelcolor=color)\n",
    "plt.savefig(\"T Part/Nasdaqvsloans.png\")\n",
    "\n",
    "fig.tight_layout()\n",
    "plt.show()"
   ]
  },
  {
   "cell_type": "code",
   "execution_count": 52,
   "metadata": {},
   "outputs": [
    {
     "data": {
      "text/plain": [
       "SpearmanrResult(correlation=0.3846153846153847, pvalue=0.21702022575997748)"
      ]
     },
     "execution_count": 52,
     "metadata": {},
     "output_type": "execute_result"
    }
   ],
   "source": [
    "spearmanr(interest_rate_mean,nasdaq_close)"
   ]
  },
  {
   "cell_type": "code",
   "execution_count": 53,
   "metadata": {},
   "outputs": [
    {
     "data": {
      "image/png": "[encoded data removed]",
      "text/plain": [
       "<Figure size 432x288 with 2 Axes>"
      ]
     },
     "metadata": {
      "needs_background": "light"
     },
     "output_type": "display_data"
    }
   ],
   "source": [
    "#Chart comparing VIX to # of Loans lended out\n",
    "fig, ax1 = plt.subplots()\n",
    "plt.title(\"VIX vs # of Loans lended out\")\n",
    "color = 'tab:red'\n",
    "ax1.set_xlabel('Months')\n",
    "ax1.set_ylabel('# of Loans', color=color)\n",
    "ax1.plot(Months, Number_of_loans, color=color)\n",
    "ax1.tick_params(axis='y', labelcolor=color)\n",
    "\n",
    "ax2 = ax1.twinx()\n",
    "\n",
    "color = 'tab:blue'\n",
    "ax2.set_ylabel('VIX', color=color)\n",
    "ax2.plot(Months, vix, color=color)\n",
    "ax2.tick_params(axis='y', labelcolor=color)\n",
    "plt.savefig(\"T Part/VIXvsloans.png\")\n",
    "\n",
    "fig.tight_layout()\n",
    "plt.show()"
   ]
  },
  {
   "cell_type": "code",
   "execution_count": 54,
   "metadata": {},
   "outputs": [
    {
     "data": {
      "text/plain": [
       "SpearmanrResult(correlation=-0.14685314685314685, pvalue=0.6487957097846664)"
      ]
     },
     "execution_count": 54,
     "metadata": {},
     "output_type": "execute_result"
    }
   ],
   "source": [
    "spearmanr(Number_of_loans,vix)"
   ]
  },
  {
   "cell_type": "code",
   "execution_count": 55,
   "metadata": {},
   "outputs": [
    {
     "data": {
      "text/html": [
       "<div>\n",
       "<style scoped>\n",
       "    .dataframe tbody tr th:only-of-type {\n",
       "        vertical-align: middle;\n",
       "    }\n",
       "\n",
       "    .dataframe tbody tr th {\n",
       "        vertical-align: top;\n",
       "    }\n",
       "\n",
       "    .dataframe thead th {\n",
       "        text-align: right;\n",
       "    }\n",
       "</style>\n",
       "<table border=\"1\" class=\"dataframe\">\n",
       "  <thead>\n",
       "    <tr style=\"text-align: right;\">\n",
       "      <th></th>\n",
       "      <th>loan_amnt</th>\n",
       "      <th>term</th>\n",
       "      <th>int_rate</th>\n",
       "      <th>emp_length</th>\n",
       "      <th>home_ownership</th>\n",
       "      <th>annual_inc</th>\n",
       "      <th>open_acc</th>\n",
       "      <th>month_num</th>\n",
       "      <th>Open</th>\n",
       "      <th>High</th>\n",
       "      <th>Low</th>\n",
       "      <th>Adj Close</th>\n",
       "    </tr>\n",
       "  </thead>\n",
       "  <tbody>\n",
       "    <tr>\n",
       "      <th>0</th>\n",
       "      <td>30000.0</td>\n",
       "      <td>36 months</td>\n",
       "      <td>7.34</td>\n",
       "      <td>3 years</td>\n",
       "      <td>OWN</td>\n",
       "      <td>95000.0</td>\n",
       "      <td>10.0</td>\n",
       "      <td>3</td>\n",
       "      <td>19.959999</td>\n",
       "      <td>26.219999</td>\n",
       "      <td>13.31</td>\n",
       "      <td>19.969999</td>\n",
       "    </tr>\n",
       "    <tr>\n",
       "      <th>1</th>\n",
       "      <td>34825.0</td>\n",
       "      <td>60 months</td>\n",
       "      <td>12.61</td>\n",
       "      <td>2 years</td>\n",
       "      <td>MORTGAGE</td>\n",
       "      <td>125000.0</td>\n",
       "      <td>12.0</td>\n",
       "      <td>3</td>\n",
       "      <td>19.959999</td>\n",
       "      <td>26.219999</td>\n",
       "      <td>13.31</td>\n",
       "      <td>19.969999</td>\n",
       "    </tr>\n",
       "    <tr>\n",
       "      <th>2</th>\n",
       "      <td>2600.0</td>\n",
       "      <td>36 months</td>\n",
       "      <td>7.96</td>\n",
       "      <td>3 years</td>\n",
       "      <td>MORTGAGE</td>\n",
       "      <td>62000.0</td>\n",
       "      <td>8.0</td>\n",
       "      <td>3</td>\n",
       "      <td>19.959999</td>\n",
       "      <td>26.219999</td>\n",
       "      <td>13.31</td>\n",
       "      <td>19.969999</td>\n",
       "    </tr>\n",
       "    <tr>\n",
       "      <th>3</th>\n",
       "      <td>20000.0</td>\n",
       "      <td>60 months</td>\n",
       "      <td>9.92</td>\n",
       "      <td>3 years</td>\n",
       "      <td>MORTGAGE</td>\n",
       "      <td>110000.0</td>\n",
       "      <td>9.0</td>\n",
       "      <td>3</td>\n",
       "      <td>19.959999</td>\n",
       "      <td>26.219999</td>\n",
       "      <td>13.31</td>\n",
       "      <td>19.969999</td>\n",
       "    </tr>\n",
       "    <tr>\n",
       "      <th>4</th>\n",
       "      <td>17000.0</td>\n",
       "      <td>60 months</td>\n",
       "      <td>20.39</td>\n",
       "      <td>10+ years</td>\n",
       "      <td>RENT</td>\n",
       "      <td>52000.0</td>\n",
       "      <td>9.0</td>\n",
       "      <td>3</td>\n",
       "      <td>19.959999</td>\n",
       "      <td>26.219999</td>\n",
       "      <td>13.31</td>\n",
       "      <td>19.969999</td>\n",
       "    </tr>\n",
       "  </tbody>\n",
       "</table>\n",
       "</div>"
      ],
      "text/plain": [
       "   loan_amnt        term  int_rate emp_length home_ownership  annual_inc  \\\n",
       "0    30000.0   36 months      7.34    3 years            OWN     95000.0   \n",
       "1    34825.0   60 months     12.61    2 years       MORTGAGE    125000.0   \n",
       "2     2600.0   36 months      7.96    3 years       MORTGAGE     62000.0   \n",
       "3    20000.0   60 months      9.92    3 years       MORTGAGE    110000.0   \n",
       "4    17000.0   60 months     20.39  10+ years           RENT     52000.0   \n",
       "\n",
       "   open_acc month_num       Open       High    Low  Adj Close  \n",
       "0      10.0         3  19.959999  26.219999  13.31  19.969999  \n",
       "1      12.0         3  19.959999  26.219999  13.31  19.969999  \n",
       "2       8.0         3  19.959999  26.219999  13.31  19.969999  \n",
       "3       9.0         3  19.959999  26.219999  13.31  19.969999  \n",
       "4       9.0         3  19.959999  26.219999  13.31  19.969999  "
      ]
     },
     "execution_count": 55,
     "metadata": {},
     "output_type": "execute_result"
    }
   ],
   "source": [
    "new_merged_df.head()"
   ]
  },
  {
   "cell_type": "code",
   "execution_count": 43,
   "metadata": {},
   "outputs": [
    {
     "data": {
      "text/plain": [
       "<matplotlib.axes._subplots.AxesSubplot at 0x24bb45a3940>"
      ]
     },
     "execution_count": 43,
     "metadata": {},
     "output_type": "execute_result"
    },
    {
     "data": {
      "image/png": "[encoded data removed]",
      "text/plain": [
       "<Figure size 720x720 with 1 Axes>"
      ]
     },
     "metadata": {
      "needs_background": "light"
     },
     "output_type": "display_data"
    }
   ],
   "source": [
    "#Boxplot showing the spread of the interest rates by month\n",
    "new_merged_df.boxplot(\"annual_inc\", by=\"month_num\", figsize=(10, 10))"
   ]
  },
  {
   "cell_type": "code",
   "execution_count": 44,
   "metadata": {
    "scrolled": true
   },
   "outputs": [
    {
     "data": {
      "text/plain": [
       "<matplotlib.axes._subplots.AxesSubplot at 0x24bac821780>"
      ]
     },
     "execution_count": 44,
     "metadata": {},
     "output_type": "execute_result"
    },
    {
     "data": {
      "image/png": "[encoded data removed]",
      "text/plain": [
       "<Figure size 1440x720 with 1 Axes>"
      ]
     },
     "metadata": {
      "needs_background": "light"
     },
     "output_type": "display_data"
    }
   ],
   "source": [
    "#Boxplot showing the spread of the interest rates by month\n",
    "new_merged_df.boxplot(\"int_rate\", by=\"month_num\", figsize=(20, 10))"
   ]
  },
  {
   "cell_type": "code",
   "execution_count": 45,
   "metadata": {},
   "outputs": [
    {
     "data": {
      "text/plain": [
       "<matplotlib.axes._subplots.AxesSubplot at 0x24bac790710>"
      ]
     },
     "execution_count": 45,
     "metadata": {},
     "output_type": "execute_result"
    },
    {
     "data": {
      "image/png": "[encoded data removed]",
      "text/plain": [
       "<Figure size 1440x720 with 1 Axes>"
      ]
     },
     "metadata": {
      "needs_background": "light"
     },
     "output_type": "display_data"
    }
   ],
   "source": [
    "#Boxplot showing the spread of loan amounts given\n",
    "new_merged_df.boxplot(\"loan_amnt\", by=\"month_num\", figsize=(20, 10))"
   ]
  }
 ],
 "metadata": {
  "kernelspec": {
   "display_name": "Python 3",
   "language": "python",
   "name": "python3"
  },
  "language_info": {
   "codemirror_mode": {
    "name": "ipython",
    "version": 3
   },
   "file_extension": ".py",
   "mimetype": "text/x-python",
   "name": "python",
   "nbconvert_exporter": "python",
   "pygments_lexer": "ipython3",
   "version": "3.7.1"
  }
 },
 "nbformat": 4,
 "nbformat_minor": 2
}
