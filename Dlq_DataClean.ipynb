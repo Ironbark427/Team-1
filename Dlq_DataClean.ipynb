{
 "cells": [
  {
   "cell_type": "code",
   "execution_count": 12,
   "metadata": {},
   "outputs": [],
   "source": [
    "# Team 1 LendingClub primary notebook\n",
    "# import dependencies\n",
    "import pandas as pd\n",
    "import numpy as np # needed for replace nan code below\n",
    "import glob\n",
    "import matplotlib.pyplot as plt\n",
    "import seaborn as sns\n",
    "from datetime import datetime\n",
    "\n",
    "# pull in all csvs and merge them into a single dataframe\n",
    "bigdf = pd.concat([pd.read_csv(f, low_memory=False, usecols=['loan_amnt','term','int_rate','installment','emp_length','home_ownership','annual_inc','issue_d','loan_status','pymnt_plan','purpose','title','addr_state','dti','delinq_2yrs','mths_since_last_delinq','open_acc','pub_rec','total_rec_late_fee','recoveries','collection_recovery_fee','mths_since_last_major_derog','chargeoff_within_12_mths','delinq_amnt','mo_sin_old_il_acct','mo_sin_old_rev_tl_op','mo_sin_rcnt_rev_tl_op','mo_sin_rcnt_tl','mort_acc','mths_since_recent_bc','mths_since_recent_bc_dlq','mths_since_recent_inq','mths_since_recent_revol_delinq','pct_tl_nvr_dlq','pub_rec_bankruptcies','grade','tax_liens'\n",
    "]) for f in\n",
    "                    glob.glob('data/LoanStats*.csv')], ignore_index=True)\n",
    "\n",
    "bigdf.dropna(subset=['term', 'issue_d'], inplace=True)\n",
    "\n",
    "bigdf['mths_since_recent_bc']=bigdf['mths_since_recent_bc'].replace(np.nan, 0)\n",
    "bigdf['mths_since_recent_bc_dlq']=bigdf['mths_since_recent_bc_dlq'].replace(np.nan, 0)\n",
    "bigdf['mths_since_recent_inq']=bigdf['mths_since_recent_inq'].replace(np.nan, 0)\n",
    "bigdf['emp_length']=bigdf['emp_length'].replace(np.nan, 0)\n",
    "bigdf['mths_since_recent_revol_delinq']=bigdf['mths_since_recent_revol_delinq'].replace(np.nan, 0)\n",
    "\n",
    "bigdf['int_rate'] = bigdf['int_rate'].str.replace(\"%\",\"\")\n",
    "bigdf['int_rate'] = pd.to_numeric(bigdf['int_rate'], errors='coerce')\n",
    "\n",
    "bigdf['loan_amnt'] = bigdf['loan_amnt'].div(1000000).round(2)\n"
   ]
  },
  {
   "cell_type": "code",
   "execution_count": 13,
   "metadata": {
    "scrolled": true
   },
   "outputs": [],
   "source": [
    "bigdf=bigdf[bigdf.emp_length!= '10+ years']\n",
    "bigdf=bigdf[bigdf.emp_length!= 0]\n",
    "bigdf['emp_length'] = bigdf['emp_length'].str.replace(\"years\",\"\")\n",
    "bigdf['emp_length'] = bigdf['emp_length'].str.replace(\"year\",\"\")\n",
    "bigdf['emp_length'] = bigdf['emp_length'].str.replace(\"<\",\"\")\n",
    "\n",
    "bigdf['emp_length'] = pd.to_numeric(bigdf['emp_length'], errors='coerce')"
   ]
  },
  {
   "cell_type": "code",
   "execution_count": 14,
   "metadata": {},
   "outputs": [],
   "source": [
    "bigdf['issue_d'] = np.where(bigdf['issue_d'] == \"Jan-18\", 1, bigdf['issue_d'])\n",
    "bigdf['issue_d'] = np.where(bigdf['issue_d'] == \"Feb-18\", 2, bigdf['issue_d'])\n",
    "bigdf['issue_d'] = np.where(bigdf['issue_d'] == \"Mar-18\", 3, bigdf['issue_d'])\n",
    "bigdf['issue_d'] = np.where(bigdf['issue_d'] == \"Apr-18\", 4, bigdf['issue_d'])\n",
    "bigdf['issue_d'] = np.where(bigdf['issue_d'] == \"May-18\", 5, bigdf['issue_d'])\n",
    "bigdf['issue_d'] = np.where(bigdf['issue_d'] == \"Jun-18\", 6, bigdf['issue_d'])\n",
    "bigdf['issue_d'] = np.where(bigdf['issue_d'] == \"Jul-18\", 7, bigdf['issue_d'])\n",
    "bigdf['issue_d'] = np.where(bigdf['issue_d'] == \"Aug-18\", 8, bigdf['issue_d'])\n",
    "bigdf['issue_d'] = np.where(bigdf['issue_d'] == \"Sep-18\", 9, bigdf['issue_d'])\n",
    "bigdf['issue_d'] = np.where(bigdf['issue_d'] == \"Oct-18\", 10, bigdf['issue_d'])\n",
    "bigdf['issue_d'] = np.where(bigdf['issue_d'] == \"Nov-18\", 11, bigdf['issue_d'])\n",
    "bigdf['issue_d'] = np.where(bigdf['issue_d'] == \"Dec-18\", 12, bigdf['issue_d'])\n",
    "\n",
    "bigdf['mths_since_recent_bc']=bigdf['mths_since_recent_bc'].replace(np.nan, 0)\n",
    "bigdf['mths_since_recent_bc_dlq']=bigdf['mths_since_recent_bc_dlq'].replace(np.nan, 0)\n",
    "bigdf['mths_since_recent_inq']=bigdf['mths_since_recent_inq'].replace(np.nan, 0)\n",
    "bigdf['emp_length']=bigdf['emp_length'].replace(np.nan, 0)\n",
    "bigdf['mths_since_recent_revol_delinq']=bigdf['mths_since_recent_revol_delinq'].replace(np.nan, 0)\n",
    "\n",
    "bigdf.dropna(subset=['term', 'issue_d'], inplace=True)"
   ]
  },
  {
   "cell_type": "code",
   "execution_count": 61,
   "metadata": {},
   "outputs": [
    {
     "data": {
      "image/png": "[encoded data removed]",
      "text/plain": [
       "<Figure size 432x288 with 1 Axes>"
      ]
     },
     "metadata": {
      "needs_background": "light"
     },
     "output_type": "display_data"
    }
   ],
   "source": [
    "# Start Juhlian Code. Create cross table of DLQ data\n",
    "Percent_table=pd.crosstab(bigdf.grade, bigdf.loan_status, values=bigdf.loan_amnt, aggfunc='count').round(0)\n",
    "Percent_table[\"Default\"] = Percent_table[\"Default\"].fillna(0)\n",
    "\n",
    "# Create grand total and percentage columns\n",
    "Percent_table['Grand Total'] = Percent_table[\"Charged Off\"] + Percent_table[\"Current\"]+ Percent_table[\"Default\"]+Percent_table[\"Fully Paid\"]+Percent_table[\"In Grace Period\"]+Percent_table[\"Late (16-30 days)\"]+Percent_table[\"Late (31-120 days)\"]\n",
    "Percent_table[\"Charged_Off\"] = Percent_table[\"Charged Off\"]/Percent_table[\"Grand Total\"]*100\n",
    "Percent_table[\"Current \"] = Percent_table[\"Current\"]/Percent_table[\"Grand Total\"]*100\n",
    "Percent_table[\"Default \"] = Percent_table[\"Default\"]/Percent_table[\"Grand Total\"]*100\n",
    "Percent_table[\"Fully_Paid\"] = Percent_table[\"Fully Paid\"]/Percent_table[\"Grand Total\"]*100\n",
    "Percent_table[\"In_Grace_Period\"] = Percent_table[\"In Grace Period\"]/Percent_table[\"Grand Total\"]*100\n",
    "Percent_table[\"Late_(16-30 days)\"] = Percent_table[\"Late (16-30 days)\"]/Percent_table[\"Grand Total\"]*100\n",
    "Percent_table[\"Late_(31-120 days)\"] = Percent_table[\"Late (31-120 days)\"]/Percent_table[\"Grand Total\"]*100\n",
    "Percent_table\n",
    "\n",
    "# Columns for dataframe using only the percentage columns created\n",
    "col = [\"Fully_Paid\",\"Current \",\"In_Grace_Period\",\"Late_(16-30 days)\",\"Late_(31-120 days)\",\"Default \",\"Charged_Off\"]\n",
    "Percent_Final = Percent_table[col]\n",
    "\n",
    "# plot Percent final table\n",
    "Percent_Final.plot(kind='bar',stacked=True)\n",
    "plt.legend(loc=\"center\")\n",
    "plt.title(\"Loan Status by Grade\")\n",
    "plt.ylabel(\"Loan Status Percentage (%)\")\n",
    "plt.xlabel(\"Grade\")\n",
    "plt.savefig(\"loan Status by Grade 100% Stacked Bar Chart\")\n",
    "\n"
   ]
  },
  {
   "cell_type": "code",
   "execution_count": 53,
   "metadata": {
    "scrolled": true
   },
   "outputs": [
    {
     "name": "stdout",
     "output_type": "stream",
     "text": [
      "2.3449705085286148\n",
      "2.2604557518074495\n",
      "1.4451248482288972\n",
      "0.6137490049048561\n"
     ]
    },
    {
     "data": {
      "text/html": [
       "<div>\n",
       "<style scoped>\n",
       "    .dataframe tbody tr th:only-of-type {\n",
       "        vertical-align: middle;\n",
       "    }\n",
       "\n",
       "    .dataframe tbody tr th {\n",
       "        vertical-align: top;\n",
       "    }\n",
       "\n",
       "    .dataframe thead th {\n",
       "        text-align: right;\n",
       "    }\n",
       "</style>\n",
       "<table border=\"1\" class=\"dataframe\">\n",
       "  <thead>\n",
       "    <tr style=\"text-align: right;\">\n",
       "      <th></th>\n",
       "      <th>QUARTER</th>\n",
       "      <th>DLQRate</th>\n",
       "    </tr>\n",
       "  </thead>\n",
       "  <tbody>\n",
       "    <tr>\n",
       "      <th>0</th>\n",
       "      <td>Q1</td>\n",
       "      <td>2.344971</td>\n",
       "    </tr>\n",
       "    <tr>\n",
       "      <th>1</th>\n",
       "      <td>Q2</td>\n",
       "      <td>2.260456</td>\n",
       "    </tr>\n",
       "    <tr>\n",
       "      <th>2</th>\n",
       "      <td>Q3</td>\n",
       "      <td>1.445125</td>\n",
       "    </tr>\n",
       "    <tr>\n",
       "      <th>3</th>\n",
       "      <td>Q4</td>\n",
       "      <td>0.613749</td>\n",
       "    </tr>\n",
       "  </tbody>\n",
       "</table>\n",
       "</div>"
      ],
      "text/plain": [
       "  QUARTER   DLQRate\n",
       "0      Q1  2.344971\n",
       "1      Q2  2.260456\n",
       "2      Q3  1.445125\n",
       "3      Q4  0.613749"
      ]
     },
     "execution_count": 53,
     "metadata": {},
     "output_type": "execute_result"
    }
   ],
   "source": [
    "# Create Quarter collumn and assign values\n",
    "bigdf[\"Quarter\"] = \"\"\n",
    "bigdf.loc[bigdf['issue_d'] == 12, (\"Quarter\")] = (\"Q4\")\n",
    "bigdf.loc[bigdf['issue_d'] == 11, (\"Quarter\")] = (\"Q4\")\n",
    "bigdf.loc[bigdf['issue_d'] == 10, (\"Quarter\")] = (\"Q4\")\n",
    "bigdf.loc[bigdf['issue_d'] == 9, (\"Quarter\")] = (\"Q3\")\n",
    "bigdf.loc[bigdf['issue_d'] == 8, (\"Quarter\")] = (\"Q3\")\n",
    "bigdf.loc[bigdf['issue_d'] == 7, (\"Quarter\")] = (\"Q3\")\n",
    "bigdf.loc[bigdf['issue_d'] == 6, (\"Quarter\")] = (\"Q2\")\n",
    "bigdf.loc[bigdf['issue_d'] == 5, (\"Quarter\")] = (\"Q2\")\n",
    "bigdf.loc[bigdf['issue_d'] == 4, (\"Quarter\")] = (\"Q2\")\n",
    "bigdf.loc[bigdf['issue_d'] == 3, (\"Quarter\")] = (\"Q1\")\n",
    "bigdf.loc[bigdf['issue_d'] == 2, (\"Quarter\")] = (\"Q1\")\n",
    "bigdf.loc[bigdf['issue_d'] == 1, (\"Quarter\")] = (\"Q1\")\n",
    "bigdf.head()\n",
    "\n",
    "\n",
    "# count Q1 records and dlq records to create 1st Quarter DLQ Rate\n",
    "cleanQ1 = bigdf[bigdf[\"Quarter\"]==\"Q1\"]\n",
    "Q1_Total = cleanQ1[\"Quarter\"].count()\n",
    "Q1_Late = cleanQ1[(cleanQ1[\"loan_status\"]== \"Late (31-120 days)\") | (cleanQ1[\"loan_status\"]== \"Late (16-30 days)\")]\n",
    "Q1_DLQ = Q1_Late[\"loan_status\"].count()\n",
    "Q1_DLQ_Rate = Q1_DLQ/Q1_Total*100\n",
    "\n",
    "# count Q2 records and dlq records to create 2nd Quarter DLQ Rate\n",
    "cleanQ2 = bigdf[bigdf[\"Quarter\"]==\"Q2\"]\n",
    "Q2_Total = cleanQ2[\"Quarter\"].count()\n",
    "Q2_Late = cleanQ2[(cleanQ2[\"loan_status\"]== \"Late (31-120 days)\") | (cleanQ2[\"loan_status\"]== \"Late (16-30 days)\")]\n",
    "Q2_DLQ = Q2_Late[\"loan_status\"].count()\n",
    "Q2_DLQ_Rate = Q2_DLQ/Q2_Total*100\n",
    "\n",
    "# count Q3 records and dlq records to create 3rd Quarter DLQ Rate\n",
    "cleanQ3 = bigdf[bigdf[\"Quarter\"]==\"Q3\"]\n",
    "Q3_Total = cleanQ3[\"Quarter\"].count()\n",
    "Q3_Late = cleanQ3[(cleanQ3[\"loan_status\"]== \"Late (31-120 days)\") | (cleanQ3[\"loan_status\"]== \"Late (16-30 days)\")]\n",
    "Q3_DLQ = Q3_Late[\"loan_status\"].count()\n",
    "Q3_DLQ_Rate = Q3_DLQ/Q3_Total*100\n",
    "\n",
    "# count Q4 records and dlq records to create 4tj Quarter DLQ Rate\n",
    "cleanQ4 = bigdf[bigdf[\"Quarter\"]==\"Q4\"]\n",
    "Q4_Total = cleanQ4[\"Quarter\"].count()\n",
    "Q4_Late = cleanQ4[(cleanQ4[\"loan_status\"]== \"Late (31-120 days)\") | (cleanQ4[\"loan_status\"]== \"Late (16-30 days)\")]\n",
    "Q4_DLQ = Q4_Late[\"loan_status\"].count()\n",
    "Q4_DLQ_Rate = Q4_DLQ/Q4_Total*100\n",
    "\n",
    "\n",
    "print(Q1_DLQ_Rate)\n",
    "print(Q2_DLQ_Rate)\n",
    "print(Q3_DLQ_Rate)\n",
    "print(Q4_DLQ_Rate)\n",
    "\n",
    "d = {'QUARTER': [\"Q1\", \"Q2\",\"Q3\",\"Q4\"], 'DLQRate': [Q1_DLQ_Rate,Q2_DLQ_Rate,Q3_DLQ_Rate,Q4_DLQ_Rate]}\n",
    "Clean_df = pd.DataFrame(data=d)\n",
    "\n",
    "\n",
    "\n",
    "Clean_df"
   ]
  },
  {
   "cell_type": "code",
   "execution_count": 55,
   "metadata": {},
   "outputs": [
    {
     "data": {
      "text/html": [
       "<div>\n",
       "<style scoped>\n",
       "    .dataframe tbody tr th:only-of-type {\n",
       "        vertical-align: middle;\n",
       "    }\n",
       "\n",
       "    .dataframe tbody tr th {\n",
       "        vertical-align: top;\n",
       "    }\n",
       "\n",
       "    .dataframe thead th {\n",
       "        text-align: right;\n",
       "    }\n",
       "</style>\n",
       "<table border=\"1\" class=\"dataframe\">\n",
       "  <thead>\n",
       "    <tr style=\"text-align: right;\">\n",
       "      <th></th>\n",
       "      <th>index</th>\n",
       "      <th>DATE</th>\n",
       "      <th>QUARTER</th>\n",
       "      <th>DLQ Rate</th>\n",
       "    </tr>\n",
       "  </thead>\n",
       "  <tbody>\n",
       "    <tr>\n",
       "      <th>0</th>\n",
       "      <td>108</td>\n",
       "      <td>2018-01-01</td>\n",
       "      <td>Q1</td>\n",
       "      <td>2.54</td>\n",
       "    </tr>\n",
       "    <tr>\n",
       "      <th>1</th>\n",
       "      <td>109</td>\n",
       "      <td>2018-04-01</td>\n",
       "      <td>Q2</td>\n",
       "      <td>2.48</td>\n",
       "    </tr>\n",
       "    <tr>\n",
       "      <th>2</th>\n",
       "      <td>110</td>\n",
       "      <td>2018-07-01</td>\n",
       "      <td>Q3</td>\n",
       "      <td>2.49</td>\n",
       "    </tr>\n",
       "    <tr>\n",
       "      <th>3</th>\n",
       "      <td>111</td>\n",
       "      <td>2018-10-01</td>\n",
       "      <td>Q4</td>\n",
       "      <td>2.54</td>\n",
       "    </tr>\n",
       "  </tbody>\n",
       "</table>\n",
       "</div>"
      ],
      "text/plain": [
       "   index       DATE QUARTER  DLQ Rate\n",
       "0    108 2018-01-01      Q1      2.54\n",
       "1    109 2018-04-01      Q2      2.48\n",
       "2    110 2018-07-01      Q3      2.49\n",
       "3    111 2018-10-01      Q4      2.54"
      ]
     },
     "execution_count": 55,
     "metadata": {},
     "output_type": "execute_result"
    }
   ],
   "source": [
    "# Import federal reserve data and create dataframe for 2018 data\n",
    "fed_data = pd.read_csv(\"data/DRCCLACBS - federal reserve delinquency rates.csv\")\n",
    "fed_data[\"DATE\"] = pd.to_datetime(fed_data[\"DATE\"])\n",
    "fed_data2018 = fed_data[fed_data[\"DATE\"]>=\"1/1/2018\"]\n",
    "fed_data2018 = fed_data2018.rename(columns={'DRCCLACBS':'DLQ Rate'})\n",
    "fed_data2018 = fed_data2018.reset_index()\n",
    "fed_data2018\n"
   ]
  },
  {
   "cell_type": "code",
   "execution_count": 64,
   "metadata": {},
   "outputs": [
    {
     "data": {
      "image/png": "[encoded data removed]",
      "text/plain": [
       "<Figure size 432x288 with 1 Axes>"
      ]
     },
     "metadata": {
      "needs_background": "light"
     },
     "output_type": "display_data"
    },
    {
     "data": {
      "text/plain": [
       "<Figure size 432x288 with 0 Axes>"
      ]
     },
     "metadata": {},
     "output_type": "display_data"
    }
   ],
   "source": [
    "# Merge Fed Data with clean data\n",
    "merged_DF = pd.merge(fed_data2018,Clean_df, left_on =\"QUARTER\",right_on=\"QUARTER\")\n",
    "\n",
    "# Create a list of the months that we will use as our x axis\n",
    "Quarters = [\"Q1\",\"Q2\",]\n",
    "Fed_Data = [2.54,2.48]\n",
    "Data = [2.27,2.19]\n",
    "\n",
    "# Plot our line that will be used to track a wrestler's wins over the years\n",
    "plt.plot(Quarters, Fed_Data, color=\"green\", label=\"National DLQ Rate\")\n",
    "\n",
    "# Plot our line that will be used to track a wrestler's losses over the years\n",
    "plt.plot(Quarters, Data, color=\"blue\", label=\"Lending Club DLQ Rate\")\n",
    "\n",
    "# Place a legend on the chart in what matplotlib believes to be the \"best\" location\n",
    "plt.legend(loc=\"lower left\")\n",
    "\n",
    "plt.title(\"National DLQ Rate vs. Lending Club DLQ Rate\")\n",
    "plt.xlabel(\"Quarter\")\n",
    "plt.ylabel(\"Dlq Rate %\")\n",
    "plt.ylim(1.5,3)\n",
    "\n",
    "\n",
    "plt.xticks(Quarters)\n",
    "# Print our chart to the screen\n",
    "plt.show()\n",
    "plt.savefig(\"National DLQ Rate vs Lending Club DLQ Rate\")\n"
   ]
  }
 ],
 "metadata": {
  "kernelspec": {
   "display_name": "Python 3",
   "language": "python",
   "name": "python3"
  },
  "language_info": {
   "codemirror_mode": {
    "name": "ipython",
    "version": 3
   },
   "file_extension": ".py",
   "mimetype": "text/x-python",
   "name": "python",
   "nbconvert_exporter": "python",
   "pygments_lexer": "ipython3",
   "version": "3.7.0"
  }
 },
 "nbformat": 4,
 "nbformat_minor": 2
}
