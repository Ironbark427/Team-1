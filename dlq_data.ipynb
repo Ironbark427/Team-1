{
 "cells": [
  {
   "cell_type": "raw",
   "metadata": {},
   "source": []
  },
  {
   "cell_type": "code",
   "execution_count": 64,
   "metadata": {},
   "outputs": [
    {
     "name": "stderr",
     "output_type": "stream",
     "text": [
      "C:\\Users\\jcfis\\Anaconda3\\lib\\site-packages\\IPython\\core\\interactiveshell.py:2785: DtypeWarning: Columns (0) have mixed types. Specify dtype option on import or set low_memory=False.\n",
      "  interactivity=interactivity, compiler=compiler, result=result)\n",
      "C:\\Users\\jcfis\\Anaconda3\\lib\\site-packages\\IPython\\core\\interactiveshell.py:2785: DtypeWarning: Columns (0,123,124,125,128,129,130,133,139,140,141) have mixed types. Specify dtype option on import or set low_memory=False.\n",
      "  interactivity=interactivity, compiler=compiler, result=result)\n"
     ]
    }
   ],
   "source": [
    "import pandas as pd\n",
    "\n",
    "# Import source data files\n",
    "quarter1_df = pd.read_csv(\"data/LoanStats_2018Q1.csv\")\n",
    "quarter2_df = pd.read_csv(\"data/LoanStats_2018Q2.csv\")\n",
    "quarter3_df = pd.read_csv(\"data/LoanStats_2018Q3.csv\")\n",
    "quarter4_df = pd.read_csv(\"data/LoanStats_2018Q4.csv\")\n",
    "fed_data = pd.read_csv(\"data/DRCCLACBS - federal reserve delinquency rates.csv\")\n",
    "# list(quarter1_df)\n"
   ]
  },
  {
   "cell_type": "code",
   "execution_count": 58,
   "metadata": {},
   "outputs": [
    {
     "name": "stdout",
     "output_type": "stream",
     "text": [
      "0\n"
     ]
    }
   ],
   "source": [
    "print(len(cleanQ1))\n",
    "# print(len(quarter1_df.dropna(how='any')))"
   ]
  },
  {
   "cell_type": "code",
   "execution_count": 100,
   "metadata": {
    "scrolled": true
   },
   "outputs": [
    {
     "data": {
      "text/html": [
       "<div>\n",
       "<style scoped>\n",
       "    .dataframe tbody tr th:only-of-type {\n",
       "        vertical-align: middle;\n",
       "    }\n",
       "\n",
       "    .dataframe tbody tr th {\n",
       "        vertical-align: top;\n",
       "    }\n",
       "\n",
       "    .dataframe thead th {\n",
       "        text-align: right;\n",
       "    }\n",
       "</style>\n",
       "<table border=\"1\" class=\"dataframe\">\n",
       "  <thead>\n",
       "    <tr style=\"text-align: right;\">\n",
       "      <th></th>\n",
       "      <th>index</th>\n",
       "      <th>DATE</th>\n",
       "      <th>QUARTER</th>\n",
       "      <th>DLQ Rate</th>\n",
       "    </tr>\n",
       "  </thead>\n",
       "  <tbody>\n",
       "    <tr>\n",
       "      <th>0</th>\n",
       "      <td>108</td>\n",
       "      <td>2018-01-01</td>\n",
       "      <td>Q1</td>\n",
       "      <td>2.54</td>\n",
       "    </tr>\n",
       "    <tr>\n",
       "      <th>1</th>\n",
       "      <td>109</td>\n",
       "      <td>2018-04-01</td>\n",
       "      <td>Q2</td>\n",
       "      <td>2.48</td>\n",
       "    </tr>\n",
       "    <tr>\n",
       "      <th>2</th>\n",
       "      <td>110</td>\n",
       "      <td>2018-07-01</td>\n",
       "      <td>Q3</td>\n",
       "      <td>2.49</td>\n",
       "    </tr>\n",
       "    <tr>\n",
       "      <th>3</th>\n",
       "      <td>111</td>\n",
       "      <td>2018-10-01</td>\n",
       "      <td>Q4</td>\n",
       "      <td>2.54</td>\n",
       "    </tr>\n",
       "  </tbody>\n",
       "</table>\n",
       "</div>"
      ],
      "text/plain": [
       "   index       DATE QUARTER  DLQ Rate\n",
       "0    108 2018-01-01      Q1      2.54\n",
       "1    109 2018-04-01      Q2      2.48\n",
       "2    110 2018-07-01      Q3      2.49\n",
       "3    111 2018-10-01      Q4      2.54"
      ]
     },
     "execution_count": 100,
     "metadata": {},
     "output_type": "execute_result"
    }
   ],
   "source": [
    "# create dataframes with data needed for delinquency analysis\n",
    "collumns = [\"loan_amnt\",\"int_rate\",\"grade\",\"loan_status\",'delinq_amnt','tot_cur_bal']\n",
    "cleanQ1 = quarter1_df[collumns]\n",
    "cleanQ1 = cleanQ1.dropna(how = \"any\")\n",
    "cleanQ2 = quarter2_df[collumns]\n",
    "cleanQ2 = cleanQ2.dropna(how = \"any\")\n",
    "cleanQ3 = quarter3_df[collumns]\n",
    "cleanQ3 = cleanQ3.dropna(how = \"any\")\n",
    "cleanQ4 = quarter4_df[collumns]\n",
    "cleanQ4 = cleanQ4.dropna(how = \"any\")\n",
    "\n",
    "\n",
    "# Add quarter column to data source\n",
    "cleanQ1[\"Quarter\"] = \"Q1\"\n",
    "cleanQ2[\"Quarter\"] = \"Q2\"\n",
    "cleanQ3[\"Quarter\"] = \"Q3\"\n",
    "cleanQ4[\"Quarter\"] = \"Q4\"\n",
    "\n",
    "\n",
    "# Merge Clean Data to create a large master table\n",
    "combined1 = pd.merge(cleanQ1,cleanQ2 ,how=\"outer\")\n",
    "combined2 = pd.merge(combined1,cleanQ3 ,how=\"outer\")\n",
    "combined_Final = pd.merge(combined2,cleanQ4 ,how=\"outer\")\n",
    "\n",
    "\n",
    "fed_data[\"DATE\"] = pd.to_datetime(fed_data[\"DATE\"])\n",
    "fed_data2018 = fed_data[fed_data[\"DATE\"]>=\"1/1/2018\"]\n",
    "fed_data2018 = fed_data2018.rename(columns={'DRCCLACBS':'DLQ Rate'})\n",
    " \n",
    "fed_data2018 = fed_data2018.reset_index()\n",
    "\n",
    "fed_data2018\n"
   ]
  },
  {
   "cell_type": "code",
   "execution_count": 106,
   "metadata": {},
   "outputs": [
    {
     "name": "stdout",
     "output_type": "stream",
     "text": [
      "2.2760142401542685\n",
      "2.191600648456856\n",
      "1.3877404558715696\n",
      "0.5700401831604524\n"
     ]
    }
   ],
   "source": [
    "\n",
    "Q1_Total = cleanQ1[\"Quarter\"].count()\n",
    "Q1_Late = cleanQ1[(cleanQ1[\"loan_status\"]== \"Late (31-120 days)\") | (cleanQ1[\"loan_status\"]== \"Late (16-30 days)\")]\n",
    "Q1_DLQ = Q1_Late[\"loan_status\"].count()\n",
    "Q1_DLQ_Rate = Q1_DLQ/Q1_Total*100\n",
    "\n",
    "Q2_Total = cleanQ2[\"Quarter\"].count()\n",
    "Q2_Late = cleanQ2[(cleanQ2[\"loan_status\"]== \"Late (31-120 days)\") | (cleanQ2[\"loan_status\"]== \"Late (16-30 days)\")]\n",
    "Q2_DLQ = Q2_Late[\"loan_status\"].count()\n",
    "Q2_DLQ_Rate = Q2_DLQ/Q2_Total*100\n",
    "\n",
    "Q3_Total = cleanQ3[\"Quarter\"].count()\n",
    "Q3_Late = cleanQ3[(cleanQ3[\"loan_status\"]== \"Late (31-120 days)\") | (cleanQ3[\"loan_status\"]== \"Late (16-30 days)\")]\n",
    "Q3_DLQ = Q3_Late[\"loan_status\"].count()\n",
    "Q3_DLQ_Rate = Q3_DLQ/Q3_Total*100\n",
    "\n",
    "Q4_Total = cleanQ4[\"Quarter\"].count()\n",
    "Q4_Late = cleanQ4[(cleanQ4[\"loan_status\"]== \"Late (31-120 days)\") | (cleanQ4[\"loan_status\"]== \"Late (16-30 days)\")]\n",
    "Q4_DLQ = Q4_Late[\"loan_status\"].count()\n",
    "Q4_DLQ_Rate = Q4_DLQ/Q4_Total*100\n",
    "\n",
    "\n",
    "print(Q1_DLQ_Rate)\n",
    "print(Q2_DLQ_Rate)\n",
    "print(Q3_DLQ_Rate)\n",
    "print(Q4_DLQ_Rate)\n",
    "\n"
   ]
  },
  {
   "cell_type": "code",
   "execution_count": 71,
   "metadata": {},
   "outputs": [
    {
     "data": {
      "text/plain": [
       "Current               437318\n",
       "Fully Paid             40240\n",
       "Charged Off             6942\n",
       "Late (31-120 days)      6509\n",
       "In Grace Period         2901\n",
       "Late (16-30 days)       1323\n",
       "Default                    9\n",
       "Name: loan_status, dtype: int64"
      ]
     },
     "execution_count": 71,
     "metadata": {},
     "output_type": "execute_result"
    }
   ],
   "source": [
    "combined_Final[\"loan_status\"].value_counts()"
   ]
  }
 ],
 "metadata": {
  "kernelspec": {
   "display_name": "Python 3",
   "language": "python",
   "name": "python3"
  },
  "language_info": {
   "codemirror_mode": {
    "name": "ipython",
    "version": 3
   },
   "file_extension": ".py",
   "mimetype": "text/x-python",
   "name": "python",
   "nbconvert_exporter": "python",
   "pygments_lexer": "ipython3",
   "version": "3.7.0"
  }
 },
 "nbformat": 4,
 "nbformat_minor": 2
}
